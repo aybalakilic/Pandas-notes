{
 "cells": [
  {
   "cell_type": "markdown",
   "metadata": {},
   "source": [
    "## PANDAS NOTES"
   ]
  },
  {
   "cell_type": "markdown",
   "metadata": {},
   "source": [
    "### Pandas nedir?"
   ]
  },
  {
   "cell_type": "markdown",
   "metadata": {},
   "source": [
    "##### Bize gelen veri seti üzerinde belirli analizler yapacağız. Kaggle gibi siteleri kullanabiliriz."
   ]
  },
  {
   "cell_type": "markdown",
   "metadata": {},
   "source": [
    "##### Terminale pip install pandas diyerek indiriyoruz."
   ]
  },
  {
   "cell_type": "code",
   "execution_count": 1,
   "metadata": {},
   "outputs": [
    {
     "name": "stdout",
     "output_type": "stream",
     "text": [
      "Series([], dtype: object)\n"
     ]
    }
   ],
   "source": [
    "import pandas as pd\n",
    "\n",
    "pandas_series=pd.Series()  #tek boyutlu bir liste.\n",
    "print(pandas_series)"
   ]
  },
  {
   "cell_type": "code",
   "execution_count": 2,
   "metadata": {},
   "outputs": [
    {
     "name": "stdout",
     "output_type": "stream",
     "text": [
      "0    20\n",
      "1    30\n",
      "2    40\n",
      "3    50\n",
      "dtype: int64\n"
     ]
    }
   ],
   "source": [
    "numbers=[20,30,40,50]\n",
    "pandas_series=pd.Series(numbers) #pandas dünyasında bir seriye çevirdik.\n",
    "print(pandas_series)"
   ]
  },
  {
   "cell_type": "code",
   "execution_count": 3,
   "metadata": {},
   "outputs": [
    {
     "name": "stdout",
     "output_type": "stream",
     "text": [
      "0    a\n",
      "1    b\n",
      "2    c\n",
      "3    d\n",
      "4    e\n",
      "dtype: object\n"
     ]
    }
   ],
   "source": [
    "letters=['a','b','c','d','e']\n",
    "pandas_series=pd.Series(letters)\n",
    "print(pandas_series)"
   ]
  },
  {
   "cell_type": "markdown",
   "metadata": {},
   "source": [
    "#### homojen olmasına gerek yok. liste string ve integerlarla birlikte olabilir. bu numpy da geçersizklen pandas da mümkündür."
   ]
  },
  {
   "cell_type": "code",
   "execution_count": 4,
   "metadata": {},
   "outputs": [
    {
     "name": "stdout",
     "output_type": "stream",
     "text": [
      "0     a\n",
      "1     b\n",
      "2     c\n",
      "3     d\n",
      "4    20\n",
      "dtype: object\n"
     ]
    }
   ],
   "source": [
    "letters=['a','b','c','d',20]\n",
    "pandas_series=pd.Series(letters)\n",
    "print(pandas_series)"
   ]
  },
  {
   "cell_type": "code",
   "execution_count": 5,
   "metadata": {},
   "outputs": [
    {
     "name": "stdout",
     "output_type": "stream",
     "text": [
      "0    5\n",
      "dtype: int64\n"
     ]
    }
   ],
   "source": [
    "scalar=5\n",
    "pandas_series=pd.Series(scalar)\n",
    "print(pandas_series)"
   ]
  },
  {
   "cell_type": "code",
   "execution_count": 6,
   "metadata": {},
   "outputs": [
    {
     "name": "stdout",
     "output_type": "stream",
     "text": [
      "0    5\n",
      "1    5\n",
      "2    5\n",
      "3    5\n",
      "dtype: int64\n"
     ]
    }
   ],
   "source": [
    "pandas_series=pd.Series(5,[0,1,2,3]) # o indexlere 5i atar.\n",
    "print(pandas_series)"
   ]
  },
  {
   "cell_type": "code",
   "execution_count": 7,
   "metadata": {},
   "outputs": [
    {
     "name": "stdout",
     "output_type": "stream",
     "text": [
      "a    20\n",
      "b    30\n",
      "c    40\n",
      "d    50\n",
      "dtype: int64\n"
     ]
    }
   ],
   "source": [
    "numbers=[20,30,40,50]\n",
    "pandas_series=pd.Series(numbers,['a','b','c','d']) #key value gibi düşün. ikinci kısımdakiler key, numbers ise her bir key'in value değeri.\n",
    "print(pandas_series)"
   ]
  },
  {
   "cell_type": "code",
   "execution_count": 8,
   "metadata": {},
   "outputs": [
    {
     "name": "stdout",
     "output_type": "stream",
     "text": [
      "a    10\n",
      "b    20\n",
      "c    30\n",
      "d    40\n",
      "dtype: int64\n"
     ]
    }
   ],
   "source": [
    "dict={'a':10, 'b':20, 'c':30 ,'d':40}\n",
    "pandas_series=pd.Series(dict)\n",
    "print(pandas_series)"
   ]
  },
  {
   "cell_type": "code",
   "execution_count": 9,
   "metadata": {},
   "outputs": [
    {
     "name": "stdout",
     "output_type": "stream",
     "text": [
      "0    45\n",
      "1    49\n",
      "2    48\n",
      "3    91\n",
      "4    22\n",
      "5    98\n",
      "dtype: int32\n"
     ]
    }
   ],
   "source": [
    "import numpy as np\n",
    "import pandas as pd\n",
    "\n",
    "random_numbers=np.random.randint(10,100,6)\n",
    "pandas_series=pd.Series(random_numbers)\n",
    "print(pandas_series)\n"
   ]
  },
  {
   "cell_type": "code",
   "execution_count": 10,
   "metadata": {},
   "outputs": [
    {
     "name": "stdout",
     "output_type": "stream",
     "text": [
      "a    20\n",
      "c    40\n",
      "dtype: int64\n"
     ]
    },
    {
     "name": "stderr",
     "output_type": "stream",
     "text": [
      "C:\\Users\\ravlu\\AppData\\Local\\Temp\\ipykernel_11376\\579217427.py:4: FutureWarning: Series.__getitem__ treating keys as positions is deprecated. In a future version, integer keys will always be treated as labels (consistent with DataFrame behavior). To access a value by position, use `ser.iloc[pos]`\n",
      "  result= pandas_series[0]    #indexleri biz a b c d olarak değiştirdik fakat yine de 0 1 2 olarak sorgulayabiliriz.\n",
      "C:\\Users\\ravlu\\AppData\\Local\\Temp\\ipykernel_11376\\579217427.py:5: FutureWarning: Series.__getitem__ treating keys as positions is deprecated. In a future version, integer keys will always be treated as labels (consistent with DataFrame behavior). To access a value by position, use `ser.iloc[pos]`\n",
      "  result= pandas_series[-1]   #son eleman\n"
     ]
    }
   ],
   "source": [
    "numbers=[20,30,40,50]\n",
    "pandas_series=pd.Series(numbers,['a','b','c','d']) \n",
    "\n",
    "result= pandas_series[0]    #indexleri biz a b c d olarak değiştirdik fakat yine de 0 1 2 olarak sorgulayabiliriz.\n",
    "result= pandas_series[-1]   #son eleman\n",
    "result=pandas_series[:2]    #ilk 2 eleman\n",
    "result=pandas_series[-2:]   #son 2 eleman\n",
    "result=pandas_series['a']\n",
    "result=pandas_series[['a','c']]\n",
    "\n",
    "\n",
    "print(result)"
   ]
  },
  {
   "cell_type": "code",
   "execution_count": 11,
   "metadata": {},
   "outputs": [
    {
     "name": "stdout",
     "output_type": "stream",
     "text": [
      "a    True\n",
      "b    True\n",
      "c    True\n",
      "d    True\n",
      "dtype: bool\n"
     ]
    }
   ],
   "source": [
    "result=pandas_series.ndim\n",
    "result=pandas_series.dtype\n",
    "result=pandas_series.shape\n",
    "result=pandas_series.sum()\n",
    "result=pandas_series.max()\n",
    "result=pandas_series.min()\n",
    "result=pandas_series.mean()\n",
    "result =pandas_series+pandas_series\n",
    "result =np.sqrt(pandas_series)\n",
    "result =pandas_series >=50\n",
    "result= pandas_series %2 == 0\n",
    "print(result) \n",
    " "
   ]
  },
  {
   "cell_type": "markdown",
   "metadata": {},
   "source": [
    "#### örnek:"
   ]
  },
  {
   "cell_type": "code",
   "execution_count": 12,
   "metadata": {},
   "outputs": [
    {
     "name": "stdout",
     "output_type": "stream",
     "text": [
      "Grandland     NaN\n",
      "astra        60.0\n",
      "corsa        60.0\n",
      "insignia     20.0\n",
      "mokka         NaN\n",
      "dtype: float64\n",
      "60.0\n"
     ]
    }
   ],
   "source": [
    "opel2018=pd.Series([20,30,40,10],[\"astra\",\"corsa\",\"mokka\",\"insignia\"])\n",
    "opel2019=pd.Series([40,30,20,10],[\"astra\",\"corsa\",\"Grandland\",\"insignia\"])\n",
    "\n",
    "total=opel2018+opel2019\n",
    "\n",
    "print(total)\n",
    "print(total[\"astra\"])"
   ]
  },
  {
   "cell_type": "markdown",
   "metadata": {},
   "source": [
    "### Pandas Data Frames (Serieslerin birleşimi ile oluşur.)"
   ]
  },
  {
   "cell_type": "code",
   "execution_count": 13,
   "metadata": {},
   "outputs": [
    {
     "name": "stdout",
     "output_type": "stream",
     "text": [
      "   apples  oranges\n",
      "0       3        0\n",
      "1       2        3\n",
      "2       1        7\n",
      "3       0        2\n"
     ]
    }
   ],
   "source": [
    "import pandas as pd\n",
    "\n",
    "seri1=pd.Series([3,2,1,0])\n",
    "seri2=pd.Series([0,3,7,2])\n",
    "\n",
    "data = {\"apples\" : seri1 , \"oranges\" : seri2 }\n",
    "\n",
    "df = pd.DataFrame(data)\n",
    "\n",
    "print(df)"
   ]
  },
  {
   "cell_type": "code",
   "execution_count": 14,
   "metadata": {},
   "outputs": [
    {
     "name": "stdout",
     "output_type": "stream",
     "text": [
      "Empty DataFrame\n",
      "Columns: []\n",
      "Index: []\n"
     ]
    }
   ],
   "source": [
    "df=pd.DataFrame()\n",
    "print(df)"
   ]
  },
  {
   "cell_type": "code",
   "execution_count": 15,
   "metadata": {},
   "outputs": [
    {
     "name": "stdout",
     "output_type": "stream",
     "text": [
      "   0\n",
      "0  1\n",
      "1  2\n",
      "2  3\n",
      "3  4\n"
     ]
    }
   ],
   "source": [
    "df=pd.DataFrame([1,2,3,4])\n",
    "print(df)"
   ]
  },
  {
   "cell_type": "markdown",
   "metadata": {},
   "source": [
    "#### liste şeklinde bir data ile df"
   ]
  },
  {
   "cell_type": "code",
   "execution_count": 16,
   "metadata": {},
   "outputs": [
    {
     "name": "stdout",
     "output_type": "stream",
     "text": [
      "     name  grades\n",
      "1  Mehmet     100\n",
      "2  Aybala      98\n",
      "3  Zeynep      95\n"
     ]
    }
   ],
   "source": [
    "data =[ [\"Mehmet\",100],[\"Aybala\",98],[\"Zeynep\",95] ]\n",
    "\n",
    "df=pd.DataFrame(data,columns=[\"name\",\"grades\"],index=[1,2,3])\n",
    "\n",
    "print(df)"
   ]
  },
  {
   "cell_type": "markdown",
   "metadata": {},
   "source": [
    "#### dict şeklinde bir data ile df"
   ]
  },
  {
   "cell_type": "code",
   "execution_count": 17,
   "metadata": {},
   "outputs": [
    {
     "name": "stdout",
     "output_type": "stream",
     "text": [
      "           lecture names  akts\n",
      "EEE201           circuit     7\n",
      "EEE221  engineering math     6\n",
      "EEE209       probability     5\n",
      "ENG201  academic english     3\n"
     ]
    }
   ],
   "source": [
    "data = {\"lecture names\":[\"circuit\",\"engineering math\",\"probability\",\"academic english\"], \n",
    "        \"akts\":[7,6,5,3]\n",
    "        }\n",
    "\n",
    "df=pd.DataFrame(data,index=[\"EEE201\",\"EEE221\",\"EEE209\",\"ENG201\"]) #column tanımalaması yapmaya gerek yoktur.\n",
    "print(df)\n"
   ]
  },
  {
   "cell_type": "code",
   "execution_count": 18,
   "metadata": {},
   "outputs": [
    {
     "name": "stdout",
     "output_type": "stream",
     "text": [
      "            lecture name  succes rate\n",
      "EEE201           circuit           45\n",
      "EEE221  engineering math           38\n",
      "EEE209       probability           80\n",
      "ENG201  academic english           70\n"
     ]
    }
   ],
   "source": [
    "dict_list=[{\"lecture name\":\"circuit\",\"succes rate\":45},\n",
    "           {\"lecture name\":\"engineering math\",\"succes rate\":38},\n",
    "           {\"lecture name\":\"probability\",\"succes rate\":80},\n",
    "           {\"lecture name\":\"academic english\",\"succes rate\":70},\n",
    "           ]\n",
    "\n",
    "df= pd.DataFrame(dict_list,index=[\"EEE201\",\"EEE221\",\"EEE209\",\"ENG201\"])\n",
    "print(df)"
   ]
  },
  {
   "cell_type": "markdown",
   "metadata": {},
   "source": [
    "### Pandas ile Farklı Dosya Tiplerinden Veri Okuma"
   ]
  },
  {
   "cell_type": "code",
   "execution_count": 19,
   "metadata": {},
   "outputs": [
    {
     "data": {
      "text/html": [
       "<div>\n",
       "<style scoped>\n",
       "    .dataframe tbody tr th:only-of-type {\n",
       "        vertical-align: middle;\n",
       "    }\n",
       "\n",
       "    .dataframe tbody tr th {\n",
       "        vertical-align: top;\n",
       "    }\n",
       "\n",
       "    .dataframe thead th {\n",
       "        text-align: right;\n",
       "    }\n",
       "</style>\n",
       "<table border=\"1\" class=\"dataframe\">\n",
       "  <thead>\n",
       "    <tr style=\"text-align: right;\">\n",
       "      <th></th>\n",
       "      <th>show_id</th>\n",
       "      <th>type</th>\n",
       "      <th>title</th>\n",
       "      <th>director</th>\n",
       "      <th>cast</th>\n",
       "      <th>country</th>\n",
       "      <th>date_added</th>\n",
       "      <th>release_year</th>\n",
       "      <th>rating</th>\n",
       "      <th>duration</th>\n",
       "      <th>listed_in</th>\n",
       "      <th>description</th>\n",
       "    </tr>\n",
       "  </thead>\n",
       "  <tbody>\n",
       "    <tr>\n",
       "      <th>0</th>\n",
       "      <td>s1</td>\n",
       "      <td>Movie</td>\n",
       "      <td>Dick Johnson Is Dead</td>\n",
       "      <td>Kirsten Johnson</td>\n",
       "      <td>NaN</td>\n",
       "      <td>United States</td>\n",
       "      <td>September 25, 2021</td>\n",
       "      <td>2020</td>\n",
       "      <td>PG-13</td>\n",
       "      <td>90 min</td>\n",
       "      <td>Documentaries</td>\n",
       "      <td>As her father nears the end of his life, filmm...</td>\n",
       "    </tr>\n",
       "    <tr>\n",
       "      <th>1</th>\n",
       "      <td>s2</td>\n",
       "      <td>TV Show</td>\n",
       "      <td>Blood &amp; Water</td>\n",
       "      <td>NaN</td>\n",
       "      <td>Ama Qamata, Khosi Ngema, Gail Mabalane, Thaban...</td>\n",
       "      <td>South Africa</td>\n",
       "      <td>September 24, 2021</td>\n",
       "      <td>2021</td>\n",
       "      <td>TV-MA</td>\n",
       "      <td>2 Seasons</td>\n",
       "      <td>International TV Shows, TV Dramas, TV Mysteries</td>\n",
       "      <td>After crossing paths at a party, a Cape Town t...</td>\n",
       "    </tr>\n",
       "    <tr>\n",
       "      <th>2</th>\n",
       "      <td>s3</td>\n",
       "      <td>TV Show</td>\n",
       "      <td>Ganglands</td>\n",
       "      <td>Julien Leclercq</td>\n",
       "      <td>Sami Bouajila, Tracy Gotoas, Samuel Jouy, Nabi...</td>\n",
       "      <td>NaN</td>\n",
       "      <td>September 24, 2021</td>\n",
       "      <td>2021</td>\n",
       "      <td>TV-MA</td>\n",
       "      <td>1 Season</td>\n",
       "      <td>Crime TV Shows, International TV Shows, TV Act...</td>\n",
       "      <td>To protect his family from a powerful drug lor...</td>\n",
       "    </tr>\n",
       "    <tr>\n",
       "      <th>3</th>\n",
       "      <td>s4</td>\n",
       "      <td>TV Show</td>\n",
       "      <td>Jailbirds New Orleans</td>\n",
       "      <td>NaN</td>\n",
       "      <td>NaN</td>\n",
       "      <td>NaN</td>\n",
       "      <td>September 24, 2021</td>\n",
       "      <td>2021</td>\n",
       "      <td>TV-MA</td>\n",
       "      <td>1 Season</td>\n",
       "      <td>Docuseries, Reality TV</td>\n",
       "      <td>Feuds, flirtations and toilet talk go down amo...</td>\n",
       "    </tr>\n",
       "    <tr>\n",
       "      <th>4</th>\n",
       "      <td>s5</td>\n",
       "      <td>TV Show</td>\n",
       "      <td>Kota Factory</td>\n",
       "      <td>NaN</td>\n",
       "      <td>Mayur More, Jitendra Kumar, Ranjan Raj, Alam K...</td>\n",
       "      <td>India</td>\n",
       "      <td>September 24, 2021</td>\n",
       "      <td>2021</td>\n",
       "      <td>TV-MA</td>\n",
       "      <td>2 Seasons</td>\n",
       "      <td>International TV Shows, Romantic TV Shows, TV ...</td>\n",
       "      <td>In a city of coaching centers known to train I...</td>\n",
       "    </tr>\n",
       "    <tr>\n",
       "      <th>...</th>\n",
       "      <td>...</td>\n",
       "      <td>...</td>\n",
       "      <td>...</td>\n",
       "      <td>...</td>\n",
       "      <td>...</td>\n",
       "      <td>...</td>\n",
       "      <td>...</td>\n",
       "      <td>...</td>\n",
       "      <td>...</td>\n",
       "      <td>...</td>\n",
       "      <td>...</td>\n",
       "      <td>...</td>\n",
       "    </tr>\n",
       "    <tr>\n",
       "      <th>8802</th>\n",
       "      <td>s8803</td>\n",
       "      <td>Movie</td>\n",
       "      <td>Zodiac</td>\n",
       "      <td>David Fincher</td>\n",
       "      <td>Mark Ruffalo, Jake Gyllenhaal, Robert Downey J...</td>\n",
       "      <td>United States</td>\n",
       "      <td>November 20, 2019</td>\n",
       "      <td>2007</td>\n",
       "      <td>R</td>\n",
       "      <td>158 min</td>\n",
       "      <td>Cult Movies, Dramas, Thrillers</td>\n",
       "      <td>A political cartoonist, a crime reporter and a...</td>\n",
       "    </tr>\n",
       "    <tr>\n",
       "      <th>8803</th>\n",
       "      <td>s8804</td>\n",
       "      <td>TV Show</td>\n",
       "      <td>Zombie Dumb</td>\n",
       "      <td>NaN</td>\n",
       "      <td>NaN</td>\n",
       "      <td>NaN</td>\n",
       "      <td>July 1, 2019</td>\n",
       "      <td>2018</td>\n",
       "      <td>TV-Y7</td>\n",
       "      <td>2 Seasons</td>\n",
       "      <td>Kids' TV, Korean TV Shows, TV Comedies</td>\n",
       "      <td>While living alone in a spooky town, a young g...</td>\n",
       "    </tr>\n",
       "    <tr>\n",
       "      <th>8804</th>\n",
       "      <td>s8805</td>\n",
       "      <td>Movie</td>\n",
       "      <td>Zombieland</td>\n",
       "      <td>Ruben Fleischer</td>\n",
       "      <td>Jesse Eisenberg, Woody Harrelson, Emma Stone, ...</td>\n",
       "      <td>United States</td>\n",
       "      <td>November 1, 2019</td>\n",
       "      <td>2009</td>\n",
       "      <td>R</td>\n",
       "      <td>88 min</td>\n",
       "      <td>Comedies, Horror Movies</td>\n",
       "      <td>Looking to survive in a world taken over by zo...</td>\n",
       "    </tr>\n",
       "    <tr>\n",
       "      <th>8805</th>\n",
       "      <td>s8806</td>\n",
       "      <td>Movie</td>\n",
       "      <td>Zoom</td>\n",
       "      <td>Peter Hewitt</td>\n",
       "      <td>Tim Allen, Courteney Cox, Chevy Chase, Kate Ma...</td>\n",
       "      <td>United States</td>\n",
       "      <td>January 11, 2020</td>\n",
       "      <td>2006</td>\n",
       "      <td>PG</td>\n",
       "      <td>88 min</td>\n",
       "      <td>Children &amp; Family Movies, Comedies</td>\n",
       "      <td>Dragged from civilian life, a former superhero...</td>\n",
       "    </tr>\n",
       "    <tr>\n",
       "      <th>8806</th>\n",
       "      <td>s8807</td>\n",
       "      <td>Movie</td>\n",
       "      <td>Zubaan</td>\n",
       "      <td>Mozez Singh</td>\n",
       "      <td>Vicky Kaushal, Sarah-Jane Dias, Raaghav Chanan...</td>\n",
       "      <td>India</td>\n",
       "      <td>March 2, 2019</td>\n",
       "      <td>2015</td>\n",
       "      <td>TV-14</td>\n",
       "      <td>111 min</td>\n",
       "      <td>Dramas, International Movies, Music &amp; Musicals</td>\n",
       "      <td>A scrappy but poor boy worms his way into a ty...</td>\n",
       "    </tr>\n",
       "  </tbody>\n",
       "</table>\n",
       "<p>8807 rows × 12 columns</p>\n",
       "</div>"
      ],
      "text/plain": [
       "     show_id     type                  title         director  \\\n",
       "0         s1    Movie   Dick Johnson Is Dead  Kirsten Johnson   \n",
       "1         s2  TV Show          Blood & Water              NaN   \n",
       "2         s3  TV Show              Ganglands  Julien Leclercq   \n",
       "3         s4  TV Show  Jailbirds New Orleans              NaN   \n",
       "4         s5  TV Show           Kota Factory              NaN   \n",
       "...      ...      ...                    ...              ...   \n",
       "8802   s8803    Movie                 Zodiac    David Fincher   \n",
       "8803   s8804  TV Show            Zombie Dumb              NaN   \n",
       "8804   s8805    Movie             Zombieland  Ruben Fleischer   \n",
       "8805   s8806    Movie                   Zoom     Peter Hewitt   \n",
       "8806   s8807    Movie                 Zubaan      Mozez Singh   \n",
       "\n",
       "                                                   cast        country  \\\n",
       "0                                                   NaN  United States   \n",
       "1     Ama Qamata, Khosi Ngema, Gail Mabalane, Thaban...   South Africa   \n",
       "2     Sami Bouajila, Tracy Gotoas, Samuel Jouy, Nabi...            NaN   \n",
       "3                                                   NaN            NaN   \n",
       "4     Mayur More, Jitendra Kumar, Ranjan Raj, Alam K...          India   \n",
       "...                                                 ...            ...   \n",
       "8802  Mark Ruffalo, Jake Gyllenhaal, Robert Downey J...  United States   \n",
       "8803                                                NaN            NaN   \n",
       "8804  Jesse Eisenberg, Woody Harrelson, Emma Stone, ...  United States   \n",
       "8805  Tim Allen, Courteney Cox, Chevy Chase, Kate Ma...  United States   \n",
       "8806  Vicky Kaushal, Sarah-Jane Dias, Raaghav Chanan...          India   \n",
       "\n",
       "              date_added  release_year rating   duration  \\\n",
       "0     September 25, 2021          2020  PG-13     90 min   \n",
       "1     September 24, 2021          2021  TV-MA  2 Seasons   \n",
       "2     September 24, 2021          2021  TV-MA   1 Season   \n",
       "3     September 24, 2021          2021  TV-MA   1 Season   \n",
       "4     September 24, 2021          2021  TV-MA  2 Seasons   \n",
       "...                  ...           ...    ...        ...   \n",
       "8802   November 20, 2019          2007      R    158 min   \n",
       "8803        July 1, 2019          2018  TV-Y7  2 Seasons   \n",
       "8804    November 1, 2019          2009      R     88 min   \n",
       "8805    January 11, 2020          2006     PG     88 min   \n",
       "8806       March 2, 2019          2015  TV-14    111 min   \n",
       "\n",
       "                                              listed_in  \\\n",
       "0                                         Documentaries   \n",
       "1       International TV Shows, TV Dramas, TV Mysteries   \n",
       "2     Crime TV Shows, International TV Shows, TV Act...   \n",
       "3                                Docuseries, Reality TV   \n",
       "4     International TV Shows, Romantic TV Shows, TV ...   \n",
       "...                                                 ...   \n",
       "8802                     Cult Movies, Dramas, Thrillers   \n",
       "8803             Kids' TV, Korean TV Shows, TV Comedies   \n",
       "8804                            Comedies, Horror Movies   \n",
       "8805                 Children & Family Movies, Comedies   \n",
       "8806     Dramas, International Movies, Music & Musicals   \n",
       "\n",
       "                                            description  \n",
       "0     As her father nears the end of his life, filmm...  \n",
       "1     After crossing paths at a party, a Cape Town t...  \n",
       "2     To protect his family from a powerful drug lor...  \n",
       "3     Feuds, flirtations and toilet talk go down amo...  \n",
       "4     In a city of coaching centers known to train I...  \n",
       "...                                                 ...  \n",
       "8802  A political cartoonist, a crime reporter and a...  \n",
       "8803  While living alone in a spooky town, a young g...  \n",
       "8804  Looking to survive in a world taken over by zo...  \n",
       "8805  Dragged from civilian life, a former superhero...  \n",
       "8806  A scrappy but poor boy worms his way into a ty...  \n",
       "\n",
       "[8807 rows x 12 columns]"
      ]
     },
     "metadata": {},
     "output_type": "display_data"
    }
   ],
   "source": [
    "import pandas as pd\n",
    "\n",
    "df =pd.read_csv(\"netflix_titles.csv\")\n",
    "display(df)"
   ]
  },
  {
   "cell_type": "code",
   "execution_count": 20,
   "metadata": {},
   "outputs": [
    {
     "name": "stdout",
     "output_type": "stream",
     "text": [
      "    names  age\n",
      "0  Aybala   21\n",
      "1  Zeynep   49\n",
      "2  Mehmet   22\n",
      "3   Cinar    2\n",
      "4    Muge   40\n"
     ]
    }
   ],
   "source": [
    "df= pd.read_json(\"myData.json\")\n",
    "print(df)"
   ]
  },
  {
   "cell_type": "markdown",
   "metadata": {},
   "source": [
    "### DataFrameler ile Çalışma"
   ]
  },
  {
   "cell_type": "code",
   "execution_count": 21,
   "metadata": {},
   "outputs": [
    {
     "name": "stdout",
     "output_type": "stream",
     "text": [
      "   Column 1  Column 2  Column 3\n",
      "A  1.181553  0.126263  0.401442\n",
      "B -1.048585 -0.595201  0.786897\n",
      "C  1.033884 -0.610552 -0.864315\n"
     ]
    }
   ],
   "source": [
    "import pandas as pd\n",
    "from numpy.random import randn\n",
    "\n",
    "df= pd.DataFrame(randn(3,3),index=[\"A\",\"B\",\"C\"],columns=[\"Column 1\",\"Column 2\",\"Column 3\"])\n",
    "print(df)"
   ]
  },
  {
   "cell_type": "markdown",
   "metadata": {},
   "source": [
    "> satır ve sütun işlemleri"
   ]
  },
  {
   "cell_type": "code",
   "execution_count": 22,
   "metadata": {},
   "outputs": [
    {
     "name": "stdout",
     "output_type": "stream",
     "text": [
      "   Column 1  Column 2\n",
      "A  0.732108  0.635731\n",
      "B -0.664737 -0.536433\n"
     ]
    }
   ],
   "source": [
    "import pandas as pd\n",
    "from numpy.random import randn\n",
    "\n",
    "df= pd.DataFrame(randn(3,3),index=[\"A\",\"B\",\"C\"],columns=[\"Column 1\",\"Column 2\",\"Column 3\"])\n",
    "\n",
    "result= df[\"Column 1\"] #istenilen sutunu verdi\n",
    "result=type(df[\"Column 1\"])\n",
    "result= df[[\"Column 1\",\"Column 2\"]] #birden fazla sütun verırken liste olarak verilir.\n",
    "\n",
    "\n",
    "result=df.loc[\"A\"]\n",
    "result=type(df.loc[\"A\"])\n",
    "# loc[row x : row y , column w : column q]\n",
    "# loc[\"row\",\"column\"] => loc[\"row\"] =>loc[\":\",\"column\"]\n",
    "result= df.loc[:,\"Column 1\"] \n",
    "result=df.loc[:,[\"Column 1\",\"Column 2\"]]\n",
    "result=df.loc[:,\"Column 1\":\"Column 3\"] #column 1 ıle column 3 arasındakı columnları ıstıyorum\n",
    "result=df.loc[:,:\"Column 3\"] \n",
    "result=df.loc[\"A\":\"C\",:]\n",
    "\n",
    "result=df.loc[\"A\":\"C\",\"Column 1\"]\n",
    "result=df.loc[\"A\",\"Column 1\"]\n",
    "result=df.loc[:\"B\",\"Column 1\":\"Column 3\"]\n",
    "result=df.loc[[\"A\",\"B\"],[\"Column 1\",\"Column 2\"]]\n",
    "print(result)\n"
   ]
  },
  {
   "cell_type": "markdown",
   "metadata": {},
   "source": [
    "> satır ve sütun ekleme"
   ]
  },
  {
   "cell_type": "code",
   "execution_count": 23,
   "metadata": {},
   "outputs": [
    {
     "name": "stdout",
     "output_type": "stream",
     "text": [
      "   Column 1  Column 2  Column 3  Column 4\n",
      "B  0.027111 -0.804872  0.753852  1.716673\n",
      "C  0.185817  0.782490  0.324354  1.168232\n"
     ]
    }
   ],
   "source": [
    "import pandas as pd\n",
    "from numpy.random import randn\n",
    "\n",
    "df= pd.DataFrame(randn(3,3),index=[\"A\",\"B\",\"C\"],columns=[\"Column 1\",\"Column 2\",\"Column 3\"])\n",
    "\n",
    "df[\"Column 4\"] =pd.Series(randn(3),index=[\"A\",\"B\",\"C\"])\n",
    "df[\"Column 5\"] =df[\"Column 1\"]+df[\"Column 3\"]\n",
    "\n",
    "df.drop(\"Column 5\",axis=1,inplace=True) #column 5'i y eksenı boyunca sil\n",
    "df.drop(\"A\",axis=0,inplace=True)# row A yı x ekseni boyunca sil\n",
    "print(df)"
   ]
  },
  {
   "cell_type": "markdown",
   "metadata": {},
   "source": [
    "### DataFrame Filtreleme"
   ]
  },
  {
   "cell_type": "code",
   "execution_count": 24,
   "metadata": {},
   "outputs": [
    {
     "name": "stdout",
     "output_type": "stream",
     "text": [
      "    Column1  Column2  Column3  Column4  Column5\n",
      "0        87       94       63       87       30\n",
      "1        79       85       32       56       51\n",
      "2        74       73       48       46       88\n",
      "3        77       87       20       71       50\n",
      "4        85       44       37       59       39\n",
      "5        45       25       14       53       86\n",
      "6        50       19       79       45       19\n",
      "7        19       81       71       40       33\n",
      "8        31       43       59       67       50\n",
      "9        23       61       37       33       58\n",
      "10       81       39       45       20       86\n",
      "11       46       93       18       80       51\n",
      "12       97       49       36       95       48\n",
      "13       52       78       79       73       39\n",
      "14       78       68       39       37       76\n"
     ]
    }
   ],
   "source": [
    "import pandas as pd\n",
    "import numpy as np\n",
    "\n",
    "data =np.random.randint(10,100,75).reshape(15,5)\n",
    "df= pd.DataFrame(data,columns=[\"Column1\",\"Column2\",\"Column3\",\"Column4\",\"Column5\"])\n",
    "\n",
    "print(df)"
   ]
  },
  {
   "cell_type": "markdown",
   "metadata": {},
   "source": [
    "> dataframe üzerinde parçalama işlemleri"
   ]
  },
  {
   "cell_type": "code",
   "execution_count": 25,
   "metadata": {},
   "outputs": [
    {
     "name": "stdout",
     "output_type": "stream",
     "text": [
      "    Column1  Column2\n",
      "5        59       75\n",
      "6        84       91\n",
      "7        17       69\n",
      "8        42       56\n",
      "9        27       71\n",
      "10       87       76\n",
      "11       43       65\n",
      "12       16       17\n",
      "13       86       93\n",
      "14       13       17\n"
     ]
    }
   ],
   "source": [
    "import pandas as pd\n",
    "import numpy as np\n",
    "\n",
    "data =np.random.randint(10,100,75).reshape(15,5)\n",
    "df= pd.DataFrame(data,columns=[\"Column1\",\"Column2\",\"Column3\",\"Column4\",\"Column5\"])\n",
    "\n",
    "result=df.columns #df içindeki tüm column isimlerini sana verir\n",
    "result=df.head() #ilk 5 satırın verileri gelir\n",
    "result=df.head(10) #ilk 10 satırın verileri gelir\n",
    "result=df.tail() #son 5 satırın verilerini getirir\n",
    "result=df.tail(7) #son 7 satırın verilerini getirir\n",
    "result=df[\"Column1\"].head() #ilk 5 satırın column1 verilerini getirir\n",
    "result=df.Column1.head() #üstteki ile aynı işlevde\n",
    "result=df[[\"Column1\",\"Column2\"]].head()\n",
    "result=df[5:15][[\"Column1\",\"Column2\"]]\n",
    "\n",
    "print(result)"
   ]
  },
  {
   "cell_type": "markdown",
   "metadata": {},
   "source": [
    ">filtreleme"
   ]
  },
  {
   "cell_type": "code",
   "execution_count": 26,
   "metadata": {},
   "outputs": [
    {
     "name": "stdout",
     "output_type": "stream",
     "text": [
      "    Column1  Column2\n",
      "8        61       84\n",
      "14       84       94\n"
     ]
    }
   ],
   "source": [
    "import pandas as pd\n",
    "import numpy as np\n",
    "\n",
    "data =np.random.randint(10,100,75).reshape(15,5)\n",
    "df= pd.DataFrame(data,columns=[\"Column1\",\"Column2\",\"Column3\",\"Column4\",\"Column5\"])\n",
    "\n",
    "result= df>50\n",
    "result= df[df>50]\n",
    "result=df[df%2==0]\n",
    "result=df[\"Column1\"] > 50\n",
    "result= df[(df[\"Column1\"] >50) & (df[\"Column1\"] <= 70)][\"Column1\"]\n",
    "result= df[(df[\"Column1\"] >30) | (df[\"Column2\"] <= 50)][[\"Column1\",\"Column2\"]]\n",
    "result=df.query(\"Column1>=50 & Column2 > 80\")[[\"Column1\",\"Column2\"]] #şartlar için kullanım sunar\n",
    "\n",
    "print(result)"
   ]
  },
  {
   "cell_type": "markdown",
   "metadata": {},
   "source": [
    "#### Uygulama: imdb Veri Analizi"
   ]
  },
  {
   "cell_type": "code",
   "execution_count": 27,
   "metadata": {},
   "outputs": [
    {
     "name": "stdout",
     "output_type": "stream",
     "text": [
      "Index(['Movie_Title', 'YR_Released', 'Rating', 'Num_Reviews', 'Movie_ID',\n",
      "       'Record', 'Runtime'],\n",
      "      dtype='object')\n"
     ]
    }
   ],
   "source": [
    "import pandas as pd\n",
    "import numpy as np\n",
    "\n",
    "df=pd.read_csv(\"imdb.csv\")\n",
    "print(df.columns)"
   ]
  },
  {
   "cell_type": "code",
   "execution_count": 28,
   "metadata": {},
   "outputs": [
    {
     "name": "stdout",
     "output_type": "stream",
     "text": [
      "                                           Movie_Title  YR_Released  Rating  \\\n",
      "840                                           The Help         2011     8.0   \n",
      "841                               Beauty and the Beast         1991     8.0   \n",
      "842                                  Dog Day Afternoon         1975     8.0   \n",
      "843                              The Battle of Algiers         1966     8.0   \n",
      "844                               In the Mood for Love         2000     8.0   \n",
      "845  Pirates of the Caribbean: The Curse of the Bla...         2003     8.0   \n",
      "846                   What Ever Happened to Baby Jane?         1962     8.0   \n",
      "847                                       Paris, Texas         1984     8.0   \n",
      "848                                           Drishyam         2015     8.0   \n",
      "849                                                 PK         2014     8.0   \n",
      "\n",
      "     Num_Reviews   Movie_ID          Record  Runtime  \n",
      "840       345567  tt1454029  Top 250 Movies    146.0  \n",
      "841       337665  tt0101414  Top 250 Movies     84.0  \n",
      "842       195760  tt0072890  Top 250 Movies    125.0  \n",
      "843        41317  tt0058946  Top 250 Movies    121.0  \n",
      "844        84318  tt0118694  Top 250 Movies     98.0  \n",
      "845       872441  tt0325980  Top 250 Movies    143.0  \n",
      "846        37906  tt0056687  Top 250 Movies    134.0  \n",
      "847        55587  tt0087884  Top 250 Movies    145.0  \n",
      "848        40777  tt4430212  Top 250 Movies    163.0  \n",
      "849       106375  tt2338151  Top 250 Movies    153.0  \n"
     ]
    }
   ],
   "source": [
    "result=df.head() \n",
    "result=df.head(10)\n",
    "result=df.tail()\n",
    "result=df.tail(10)\n",
    "print(result)"
   ]
  },
  {
   "cell_type": "code",
   "execution_count": 29,
   "metadata": {},
   "outputs": [
    {
     "name": "stdout",
     "output_type": "stream",
     "text": [
      "                                           Movie_Title  Num_Reviews  Rating\n",
      "100                           The Shawshank Redemption      1829037     9.2\n",
      "101                                      The Godfather      1249333     9.2\n",
      "102                             The Godfather: Part II       860228     9.0\n",
      "103                                    The Dark Knight      1808543     9.0\n",
      "104                                       12 Angry Men       497242     8.9\n",
      "..                                                 ...          ...     ...\n",
      "845  Pirates of the Caribbean: The Curse of the Bla...       872441     8.0\n",
      "846                   What Ever Happened to Baby Jane?        37906     8.0\n",
      "847                                       Paris, Texas        55587     8.0\n",
      "848                                           Drishyam        40777     8.0\n",
      "849                                                 PK       106375     8.0\n",
      "\n",
      "[573 rows x 3 columns]\n"
     ]
    }
   ],
   "source": [
    "result=df[\"Movie_Title\"].head()\n",
    "result=df[[\"Movie_Title\",\"Rating\"]].head()\n",
    "result=df[[\"Movie_Title\",\"Rating\"]].tail(7)\n",
    "result=df[5:10][[\"Movie_Title\",\"Rating\"]]\n",
    "result=df.query(\"Rating>= 8.0\")[[\"Movie_Title\",\"Rating\"]].head(50)\n",
    "result=df.query(\"YR_Released<=2015 & YR_Released>=2014\")[[\"Movie_Title\",\"YR_Released\"]]\n",
    "result=df.query(\"Num_Reviews>= 100000 | (Rating<=9 & Rating>=8)\")[[\"Movie_Title\",\"Num_Reviews\",\"Rating\"]]\n",
    "print(result)"
   ]
  },
  {
   "cell_type": "markdown",
   "metadata": {},
   "source": [
    "### DataFrame Groupby"
   ]
  },
  {
   "cell_type": "code",
   "execution_count": 30,
   "metadata": {},
   "outputs": [
    {
     "name": "stdout",
     "output_type": "stream",
     "text": [
      "         Çalışan         Departman  Yaş     Semt  Maaş\n",
      "0   Ahmet Yılmaz  İnsan Kaynakları   30  Kadıköy  5000\n",
      "1     Can Ertürk       Bilgi İşlem   25    Tuzla  3000\n",
      "2  Hasan Korkmaz          Muhasebe   45  Maltepe  4000\n",
      "3    Cenk Saymaz  İnsan Kaynakları   50    Tuzla  3500\n",
      "4      Ali Turan       Bilgi İşlem   23  Maltepe  2750\n",
      "5    Rıza Ertürk          Muhasebe   34    Tuzla  6500\n",
      "6    Mustafa Can  İnsan Kaynakları   42  Kadıköy  4500\n"
     ]
    }
   ],
   "source": [
    "import pandas as pd\n",
    "\n",
    "personeller = {\n",
    "    'Çalışan': ['Ahmet Yılmaz','Can Ertürk','Hasan Korkmaz','Cenk Saymaz','Ali Turan','Rıza Ertürk','Mustafa Can'],\n",
    "    'Departman': ['İnsan Kaynakları','Bilgi İşlem','Muhasebe','İnsan Kaynakları','Bilgi İşlem','Muhasebe','İnsan Kaynakları'],\n",
    "    'Yaş': [30,25,45,50,23,34,42],\n",
    "    'Semt': ['Kadıköy','Tuzla','Maltepe','Tuzla','Maltepe','Tuzla','Kadıköy'],\n",
    "    'Maaş': [5000,3000,4000,3500,2750,6500,4500]\n",
    "}\n",
    "\n",
    "df=pd.DataFrame(personeller)\n",
    "print(df)\n",
    "  "
   ]
  },
  {
   "cell_type": "code",
   "execution_count": 31,
   "metadata": {},
   "outputs": [
    {
     "name": "stdout",
     "output_type": "stream",
     "text": [
      "{('Bilgi İşlem', 'Maltepe'): [4], ('Bilgi İşlem', 'Tuzla'): [1], ('Muhasebe', 'Maltepe'): [2], ('Muhasebe', 'Tuzla'): [5], ('İnsan Kaynakları', 'Kadıköy'): [0, 6], ('İnsan Kaynakları', 'Tuzla'): [3]}\n"
     ]
    }
   ],
   "source": [
    "result= df[\"Maaş\"].sum()\n",
    "result=df.groupby(\"Departman\").groups\n",
    "result=df.groupby([\"Departman\",\"Semt\"]).groups\n",
    "print(result)"
   ]
  },
  {
   "cell_type": "code",
   "execution_count": 32,
   "metadata": {},
   "outputs": [
    {
     "name": "stdout",
     "output_type": "stream",
     "text": [
      "Kadıköy\n",
      "        Çalışan         Departman  Yaş     Semt  Maaş\n",
      "0  Ahmet Yılmaz  İnsan Kaynakları   30  Kadıköy  5000\n",
      "6   Mustafa Can  İnsan Kaynakları   42  Kadıköy  4500\n",
      "Maltepe\n",
      "         Çalışan    Departman  Yaş     Semt  Maaş\n",
      "2  Hasan Korkmaz     Muhasebe   45  Maltepe  4000\n",
      "4      Ali Turan  Bilgi İşlem   23  Maltepe  2750\n",
      "Tuzla\n",
      "       Çalışan         Departman  Yaş   Semt  Maaş\n",
      "1   Can Ertürk       Bilgi İşlem   25  Tuzla  3000\n",
      "3  Cenk Saymaz  İnsan Kaynakları   50  Tuzla  3500\n",
      "5  Rıza Ertürk          Muhasebe   34  Tuzla  6500\n"
     ]
    }
   ],
   "source": [
    "semtler= df.groupby(\"Semt\")\n",
    "for name,group in semtler:\n",
    "    print(name)\n",
    "    print(group)"
   ]
  },
  {
   "cell_type": "code",
   "execution_count": 33,
   "metadata": {},
   "outputs": [
    {
     "name": "stdout",
     "output_type": "stream",
     "text": [
      "        Çalışan         Departman  Yaş     Semt  Maaş\n",
      "0  Ahmet Yılmaz  İnsan Kaynakları   30  Kadıköy  5000\n",
      "6   Mustafa Can  İnsan Kaynakları   42  Kadıköy  4500\n"
     ]
    }
   ],
   "source": [
    "result=df.groupby(\"Semt\").get_group(\"Kadıköy\")  #diyorsun ki semtlere göre grupla ve kadıköy grubunu getir\n",
    "print(result)"
   ]
  },
  {
   "cell_type": "code",
   "execution_count": 34,
   "metadata": {},
   "outputs": [
    {
     "name": "stdout",
     "output_type": "stream",
     "text": [
      "Departman\n",
      "Bilgi İşlem         24.000000\n",
      "Muhasebe            39.500000\n",
      "İnsan Kaynakları    40.666667\n",
      "Name: Yaş, dtype: float64\n"
     ]
    }
   ],
   "source": [
    "result=df.groupby(\"Departman\").mean(numeric_only=True)\n",
    "result=df.groupby(\"Departman\").mean(numeric_only=True)[\"Yaş\"]\n",
    "print(result)"
   ]
  },
  {
   "cell_type": "code",
   "execution_count": 35,
   "metadata": {},
   "outputs": [
    {
     "name": "stdout",
     "output_type": "stream",
     "text": [
      "Semt\n",
      "Kadıköy    2\n",
      "Maltepe    2\n",
      "Tuzla      3\n",
      "Name: Çalışan, dtype: int64\n"
     ]
    }
   ],
   "source": [
    "result=df.groupby(\"Semt\")[\"Çalışan\"].count()\n",
    "print(result)"
   ]
  },
  {
   "cell_type": "code",
   "execution_count": 36,
   "metadata": {},
   "outputs": [
    {
     "name": "stdout",
     "output_type": "stream",
     "text": [
      "Departman\n",
      "Bilgi İşlem         25\n",
      "Muhasebe            45\n",
      "İnsan Kaynakları    50\n",
      "Name: Yaş, dtype: int64\n"
     ]
    }
   ],
   "source": [
    "result=df.groupby(\"Departman\")[\"Yaş\"].max()\n",
    "print(result)"
   ]
  },
  {
   "cell_type": "code",
   "execution_count": 37,
   "metadata": {},
   "outputs": [
    {
     "name": "stdout",
     "output_type": "stream",
     "text": [
      "45\n"
     ]
    }
   ],
   "source": [
    "result=df.groupby(\"Departman\")[\"Yaş\"].max()[\"Muhasebe\"]\n",
    "print(result)\n"
   ]
  },
  {
   "cell_type": "code",
   "execution_count": 38,
   "metadata": {},
   "outputs": [
    {
     "name": "stdout",
     "output_type": "stream",
     "text": [
      "                        Yaş         Maaş\n",
      "Departman                               \n",
      "Bilgi İşlem       24.000000  2875.000000\n",
      "Muhasebe          39.500000  5250.000000\n",
      "İnsan Kaynakları  40.666667  4333.333333\n"
     ]
    },
    {
     "name": "stderr",
     "output_type": "stream",
     "text": [
      "C:\\Users\\ravlu\\AppData\\Local\\Temp\\ipykernel_11376\\2932463491.py:3: FutureWarning: The provided callable <function mean at 0x000001F4C2836840> is currently using DataFrameGroupBy.mean. In a future version of pandas, the provided callable will be used directly. To keep current behavior pass the string \"mean\" instead.\n",
      "  result=df.groupby(\"Departman\")[[\"Yaş\",\"Maaş\"]].agg(np.mean)\n"
     ]
    }
   ],
   "source": [
    "import numpy as np\n",
    "\n",
    "result=df.groupby(\"Departman\")[[\"Yaş\",\"Maaş\"]].agg(np.mean)\n",
    "print(result)"
   ]
  },
  {
   "cell_type": "markdown",
   "metadata": {},
   "source": [
    "### Pandas ile Kayıp ve Bozuk Veri Analizi"
   ]
  },
  {
   "cell_type": "code",
   "execution_count": 39,
   "metadata": {},
   "outputs": [
    {
     "name": "stdout",
     "output_type": "stream",
     "text": [
      "   column1  column2  column3\n",
      "a     80.0     69.0     12.0\n",
      "b      NaN      NaN      NaN\n",
      "c     83.0     95.0     45.0\n",
      "d      NaN      NaN      NaN\n",
      "e     50.0     14.0     90.0\n",
      "f     48.0     23.0     74.0\n",
      "g      NaN      NaN      NaN\n",
      "h     60.0     96.0     34.0\n"
     ]
    }
   ],
   "source": [
    "import pandas as pd\n",
    "import numpy as np\n",
    "data=np.random.randint(10,100,15).reshape(5,3)\n",
    "df=pd.DataFrame(data,index=[\"a\",\"c\",\"e\",\"f\",\"h\"],columns=[\"column1\",\"column2\",\"column3\"])\n",
    "df=df.reindex([\"a\",\"b\",\"c\",\"d\",\"e\",\"f\",\"g\",\"h\"])\n",
    "print(df)"
   ]
  },
  {
   "cell_type": "markdown",
   "metadata": {},
   "source": [
    "> column silerken"
   ]
  },
  {
   "cell_type": "code",
   "execution_count": 40,
   "metadata": {},
   "outputs": [
    {
     "name": "stdout",
     "output_type": "stream",
     "text": [
      "   column2  column3\n",
      "a     69.0     12.0\n",
      "b      NaN      NaN\n",
      "c     95.0     45.0\n",
      "d      NaN      NaN\n",
      "e     14.0     90.0\n",
      "f     23.0     74.0\n",
      "g      NaN      NaN\n",
      "h     96.0     34.0\n"
     ]
    }
   ],
   "source": [
    "result=df.drop(\"column1\",axis=1) #column silerken axis=1 şart.\n",
    "print(result)"
   ]
  },
  {
   "cell_type": "code",
   "execution_count": 41,
   "metadata": {},
   "outputs": [
    {
     "name": "stdout",
     "output_type": "stream",
     "text": [
      "   column3\n",
      "a     12.0\n",
      "b      NaN\n",
      "c     45.0\n",
      "d      NaN\n",
      "e     90.0\n",
      "f     74.0\n",
      "g      NaN\n",
      "h     34.0\n"
     ]
    }
   ],
   "source": [
    "result=df.drop([\"column1\",\"column2\"],axis=1)\n",
    "print(result)"
   ]
  },
  {
   "cell_type": "markdown",
   "metadata": {},
   "source": [
    "> row silerken"
   ]
  },
  {
   "cell_type": "code",
   "execution_count": 42,
   "metadata": {},
   "outputs": [
    {
     "name": "stdout",
     "output_type": "stream",
     "text": [
      "   column1  column2  column3\n",
      "b      NaN      NaN      NaN\n",
      "c     83.0     95.0     45.0\n",
      "d      NaN      NaN      NaN\n",
      "e     50.0     14.0     90.0\n",
      "f     48.0     23.0     74.0\n",
      "g      NaN      NaN      NaN\n",
      "h     60.0     96.0     34.0\n"
     ]
    }
   ],
   "source": [
    "result=df.drop(\"a\",axis=0) #row silerken axis=0 şarttır.\n",
    "print(result)"
   ]
  },
  {
   "cell_type": "code",
   "execution_count": 43,
   "metadata": {},
   "outputs": [
    {
     "name": "stdout",
     "output_type": "stream",
     "text": [
      "   column1  column2  column3\n",
      "b      NaN      NaN      NaN\n",
      "c     83.0     95.0     45.0\n",
      "d      NaN      NaN      NaN\n",
      "f     48.0     23.0     74.0\n",
      "g      NaN      NaN      NaN\n",
      "h     60.0     96.0     34.0\n"
     ]
    }
   ],
   "source": [
    "result=df.drop([\"a\",\"e\"],axis=0) \n",
    "print(result)"
   ]
  },
  {
   "cell_type": "markdown",
   "metadata": {},
   "source": [
    ">NaN olanları tespit etme ve silme"
   ]
  },
  {
   "cell_type": "code",
   "execution_count": 44,
   "metadata": {},
   "outputs": [
    {
     "name": "stdout",
     "output_type": "stream",
     "text": [
      "   column1  column2  column3\n",
      "a    False    False    False\n",
      "b     True     True     True\n",
      "c    False    False    False\n",
      "d     True     True     True\n",
      "e    False    False    False\n",
      "f    False    False    False\n",
      "g     True     True     True\n",
      "h    False    False    False\n"
     ]
    }
   ],
   "source": [
    "result= df.isnull()\n",
    "print(result)"
   ]
  },
  {
   "cell_type": "code",
   "execution_count": 45,
   "metadata": {},
   "outputs": [
    {
     "name": "stdout",
     "output_type": "stream",
     "text": [
      "   column1  column2  column3\n",
      "a     True     True     True\n",
      "b    False    False    False\n",
      "c     True     True     True\n",
      "d    False    False    False\n",
      "e     True     True     True\n",
      "f     True     True     True\n",
      "g    False    False    False\n",
      "h     True     True     True\n"
     ]
    }
   ],
   "source": [
    "result= df.notnull()\n",
    "print(result)"
   ]
  },
  {
   "cell_type": "code",
   "execution_count": 46,
   "metadata": {},
   "outputs": [
    {
     "name": "stdout",
     "output_type": "stream",
     "text": [
      "column1    3\n",
      "column2    3\n",
      "column3    3\n",
      "dtype: int64\n"
     ]
    }
   ],
   "source": [
    "result= df.isnull().sum() #nan kaç tane olduğu öğrenmek için\n",
    "print(result)"
   ]
  },
  {
   "cell_type": "code",
   "execution_count": 47,
   "metadata": {},
   "outputs": [
    {
     "name": "stdout",
     "output_type": "stream",
     "text": [
      "3\n"
     ]
    }
   ],
   "source": [
    "result= df[\"column1\"].isnull().sum()\n",
    "print(result)"
   ]
  },
  {
   "cell_type": "code",
   "execution_count": 48,
   "metadata": {},
   "outputs": [
    {
     "name": "stdout",
     "output_type": "stream",
     "text": [
      "   column1  column2  column3  column4\n",
      "a     80.0     69.0     12.0      NaN\n",
      "b      NaN      NaN      NaN     30.0\n",
      "c     83.0     95.0     45.0      NaN\n",
      "d      NaN      NaN      NaN     51.0\n",
      "e     50.0     14.0     90.0      NaN\n",
      "f     48.0     23.0     74.0     30.0\n",
      "g      NaN      NaN      NaN      NaN\n",
      "h     60.0     96.0     34.0     10.0\n"
     ]
    }
   ],
   "source": [
    "newColumn=[np.nan,30,np.nan,51,np.nan,30,np.nan,10]\n",
    "df[\"column4\"]=newColumn\n",
    "\n",
    "print(df)"
   ]
  },
  {
   "cell_type": "code",
   "execution_count": 49,
   "metadata": {},
   "outputs": [
    {
     "name": "stdout",
     "output_type": "stream",
     "text": [
      "b   NaN\n",
      "d   NaN\n",
      "g   NaN\n",
      "Name: column1, dtype: float64\n"
     ]
    }
   ],
   "source": [
    "result=df[df[\"column1\"].isnull()][\"column1\"] #sadece column1deki nullalra ulaşmak için en sona bu şekilde yazılması gerekir. yoksa tüm columnları verir.\n",
    "print(result)"
   ]
  },
  {
   "cell_type": "code",
   "execution_count": 50,
   "metadata": {},
   "outputs": [
    {
     "name": "stdout",
     "output_type": "stream",
     "text": [
      "a    80.0\n",
      "c    83.0\n",
      "e    50.0\n",
      "f    48.0\n",
      "h    60.0\n",
      "Name: column1, dtype: float64\n"
     ]
    }
   ],
   "source": [
    "result=df[df[\"column1\"].notnull()][\"column1\"]\n",
    "print(result)"
   ]
  },
  {
   "cell_type": "code",
   "execution_count": 51,
   "metadata": {},
   "outputs": [
    {
     "name": "stdout",
     "output_type": "stream",
     "text": [
      "   column1  column2  column3  column4\n",
      "f     48.0     23.0     74.0     30.0\n",
      "h     60.0     96.0     34.0     10.0\n"
     ]
    }
   ],
   "source": [
    "result=df.dropna() #tüm nan ları kaldırır. axis=0 olarak çalışır,nan barındıran satırları siler\n",
    "print(result)"
   ]
  },
  {
   "cell_type": "code",
   "execution_count": 52,
   "metadata": {},
   "outputs": [
    {
     "name": "stdout",
     "output_type": "stream",
     "text": [
      "   column1  column2  column3  column4\n",
      "f     48.0     23.0     74.0     30.0\n",
      "h     60.0     96.0     34.0     10.0\n"
     ]
    }
   ],
   "source": [
    "result=df.dropna(how=\"any\") #herhangi bir nan değer bulursa onu siler.\n",
    "print(result)"
   ]
  },
  {
   "cell_type": "code",
   "execution_count": 53,
   "metadata": {},
   "outputs": [
    {
     "name": "stdout",
     "output_type": "stream",
     "text": [
      "   column1  column2  column3  column4\n",
      "a     80.0     69.0     12.0      NaN\n",
      "b      NaN      NaN      NaN     30.0\n",
      "c     83.0     95.0     45.0      NaN\n",
      "d      NaN      NaN      NaN     51.0\n",
      "e     50.0     14.0     90.0      NaN\n",
      "f     48.0     23.0     74.0     30.0\n",
      "h     60.0     96.0     34.0     10.0\n"
     ]
    }
   ],
   "source": [
    "result=df.dropna(how=\"all\") #tüm satır eger nan ise siler.\n",
    "print(result)"
   ]
  },
  {
   "cell_type": "code",
   "execution_count": 54,
   "metadata": {},
   "outputs": [
    {
     "name": "stdout",
     "output_type": "stream",
     "text": [
      "   column1  column2  column3  column4\n",
      "a     80.0     69.0     12.0      NaN\n",
      "c     83.0     95.0     45.0      NaN\n",
      "e     50.0     14.0     90.0      NaN\n",
      "f     48.0     23.0     74.0     30.0\n",
      "h     60.0     96.0     34.0     10.0\n"
     ]
    }
   ],
   "source": [
    "result=df.dropna(subset=[\"column1\",\"column2\"],how=\"any\") #istenilen columnlardaki nan ları kaldırmak ıcın\n",
    "print(result)"
   ]
  },
  {
   "cell_type": "code",
   "execution_count": 55,
   "metadata": {},
   "outputs": [
    {
     "name": "stdout",
     "output_type": "stream",
     "text": [
      "   column1  column2  column3  column4\n",
      "a     80.0     69.0     12.0      NaN\n",
      "c     83.0     95.0     45.0      NaN\n",
      "e     50.0     14.0     90.0      NaN\n",
      "f     48.0     23.0     74.0     30.0\n",
      "h     60.0     96.0     34.0     10.0\n"
     ]
    }
   ],
   "source": [
    "result=df.dropna(thresh=2) #en az içinde 2 kayıt olanı silme! anlamına gelir.\n",
    "print(result)"
   ]
  },
  {
   "cell_type": "code",
   "execution_count": 56,
   "metadata": {},
   "outputs": [
    {
     "name": "stdout",
     "output_type": "stream",
     "text": [
      "   column1  column2  column3  column4\n",
      "a     80.0     69.0     12.0      1.0\n",
      "b      1.0      1.0      1.0     30.0\n",
      "c     83.0     95.0     45.0      1.0\n",
      "d      1.0      1.0      1.0     51.0\n",
      "e     50.0     14.0     90.0      1.0\n",
      "f     48.0     23.0     74.0     30.0\n",
      "g      1.0      1.0      1.0      1.0\n",
      "h     60.0     96.0     34.0     10.0\n"
     ]
    }
   ],
   "source": [
    "result=df.fillna(\"no input\") #nan ları value değeri ile doldurulur\n",
    "result=df.fillna(1) #nan ları value değeri ile doldurulur\n",
    "print(result)"
   ]
  },
  {
   "cell_type": "markdown",
   "metadata": {},
   "source": [
    ">nan elemanları mean ile doldurma"
   ]
  },
  {
   "cell_type": "code",
   "execution_count": 57,
   "metadata": {},
   "outputs": [
    {
     "name": "stdout",
     "output_type": "stream",
     "text": [
      "994.0\n",
      "     column1    column2    column3    column4\n",
      "a  80.000000  69.000000  12.000000  52.315789\n",
      "b  52.315789  52.315789  52.315789  30.000000\n",
      "c  83.000000  95.000000  45.000000  52.315789\n",
      "d  52.315789  52.315789  52.315789  51.000000\n",
      "e  50.000000  14.000000  90.000000  52.315789\n",
      "f  48.000000  23.000000  74.000000  30.000000\n",
      "g  52.315789  52.315789  52.315789  52.315789\n",
      "h  60.000000  96.000000  34.000000  10.000000\n"
     ]
    }
   ],
   "source": [
    "#eleman sayısı = tüm tablodaki eleman sayisi(32) -nan değerlerin sayısı(13)\n",
    "ElemanSayisi = df.size - df.isnull().sum().sum()\n",
    "Toplam= df.sum().sum()\n",
    "print(Toplam)\n",
    "\n",
    "def meanValue(df):\n",
    "    return Toplam/ElemanSayisi\n",
    "\n",
    "result=df.fillna(value = meanValue(df))\n",
    "print(result)\n"
   ]
  },
  {
   "cell_type": "markdown",
   "metadata": {},
   "source": [
    "### Pandas ile String Fonksiyonları"
   ]
  },
  {
   "cell_type": "code",
   "execution_count": 58,
   "metadata": {},
   "outputs": [
    {
     "data": {
      "text/html": [
       "<div>\n",
       "<style scoped>\n",
       "    .dataframe tbody tr th:only-of-type {\n",
       "        vertical-align: middle;\n",
       "    }\n",
       "\n",
       "    .dataframe tbody tr th {\n",
       "        vertical-align: top;\n",
       "    }\n",
       "\n",
       "    .dataframe thead th {\n",
       "        text-align: right;\n",
       "    }\n",
       "</style>\n",
       "<table border=\"1\" class=\"dataframe\">\n",
       "  <thead>\n",
       "    <tr style=\"text-align: right;\">\n",
       "      <th></th>\n",
       "      <th>Name</th>\n",
       "      <th>Team</th>\n",
       "      <th>Number</th>\n",
       "      <th>Position</th>\n",
       "      <th>Age</th>\n",
       "      <th>Height</th>\n",
       "      <th>Weight</th>\n",
       "      <th>College</th>\n",
       "      <th>Salary</th>\n",
       "    </tr>\n",
       "  </thead>\n",
       "  <tbody>\n",
       "    <tr>\n",
       "      <th>0</th>\n",
       "      <td>Avery Bradley</td>\n",
       "      <td>Boston Celtics</td>\n",
       "      <td>0.0</td>\n",
       "      <td>PG</td>\n",
       "      <td>25.0</td>\n",
       "      <td>6-2</td>\n",
       "      <td>180.0</td>\n",
       "      <td>Texas</td>\n",
       "      <td>7730337.0</td>\n",
       "    </tr>\n",
       "    <tr>\n",
       "      <th>1</th>\n",
       "      <td>Jae Crowder</td>\n",
       "      <td>Boston Celtics</td>\n",
       "      <td>99.0</td>\n",
       "      <td>SF</td>\n",
       "      <td>25.0</td>\n",
       "      <td>6-6</td>\n",
       "      <td>235.0</td>\n",
       "      <td>Marquette</td>\n",
       "      <td>6796117.0</td>\n",
       "    </tr>\n",
       "    <tr>\n",
       "      <th>2</th>\n",
       "      <td>John Holland</td>\n",
       "      <td>Boston Celtics</td>\n",
       "      <td>30.0</td>\n",
       "      <td>SG</td>\n",
       "      <td>27.0</td>\n",
       "      <td>6-5</td>\n",
       "      <td>205.0</td>\n",
       "      <td>Boston University</td>\n",
       "      <td>NaN</td>\n",
       "    </tr>\n",
       "    <tr>\n",
       "      <th>3</th>\n",
       "      <td>R.J. Hunter</td>\n",
       "      <td>Boston Celtics</td>\n",
       "      <td>28.0</td>\n",
       "      <td>SG</td>\n",
       "      <td>22.0</td>\n",
       "      <td>6-5</td>\n",
       "      <td>185.0</td>\n",
       "      <td>Georgia State</td>\n",
       "      <td>1148640.0</td>\n",
       "    </tr>\n",
       "    <tr>\n",
       "      <th>4</th>\n",
       "      <td>Jonas Jerebko</td>\n",
       "      <td>Boston Celtics</td>\n",
       "      <td>8.0</td>\n",
       "      <td>PF</td>\n",
       "      <td>29.0</td>\n",
       "      <td>6-10</td>\n",
       "      <td>231.0</td>\n",
       "      <td>NaN</td>\n",
       "      <td>5000000.0</td>\n",
       "    </tr>\n",
       "    <tr>\n",
       "      <th>...</th>\n",
       "      <td>...</td>\n",
       "      <td>...</td>\n",
       "      <td>...</td>\n",
       "      <td>...</td>\n",
       "      <td>...</td>\n",
       "      <td>...</td>\n",
       "      <td>...</td>\n",
       "      <td>...</td>\n",
       "      <td>...</td>\n",
       "    </tr>\n",
       "    <tr>\n",
       "      <th>453</th>\n",
       "      <td>Shelvin Mack</td>\n",
       "      <td>Utah Jazz</td>\n",
       "      <td>8.0</td>\n",
       "      <td>PG</td>\n",
       "      <td>26.0</td>\n",
       "      <td>6-3</td>\n",
       "      <td>203.0</td>\n",
       "      <td>Butler</td>\n",
       "      <td>2433333.0</td>\n",
       "    </tr>\n",
       "    <tr>\n",
       "      <th>454</th>\n",
       "      <td>Raul Neto</td>\n",
       "      <td>Utah Jazz</td>\n",
       "      <td>25.0</td>\n",
       "      <td>PG</td>\n",
       "      <td>24.0</td>\n",
       "      <td>6-1</td>\n",
       "      <td>179.0</td>\n",
       "      <td>NaN</td>\n",
       "      <td>900000.0</td>\n",
       "    </tr>\n",
       "    <tr>\n",
       "      <th>455</th>\n",
       "      <td>Tibor Pleiss</td>\n",
       "      <td>Utah Jazz</td>\n",
       "      <td>21.0</td>\n",
       "      <td>C</td>\n",
       "      <td>26.0</td>\n",
       "      <td>7-3</td>\n",
       "      <td>256.0</td>\n",
       "      <td>NaN</td>\n",
       "      <td>2900000.0</td>\n",
       "    </tr>\n",
       "    <tr>\n",
       "      <th>456</th>\n",
       "      <td>Jeff Withey</td>\n",
       "      <td>Utah Jazz</td>\n",
       "      <td>24.0</td>\n",
       "      <td>C</td>\n",
       "      <td>26.0</td>\n",
       "      <td>7-0</td>\n",
       "      <td>231.0</td>\n",
       "      <td>Kansas</td>\n",
       "      <td>947276.0</td>\n",
       "    </tr>\n",
       "    <tr>\n",
       "      <th>457</th>\n",
       "      <td>NaN</td>\n",
       "      <td>NaN</td>\n",
       "      <td>NaN</td>\n",
       "      <td>NaN</td>\n",
       "      <td>NaN</td>\n",
       "      <td>NaN</td>\n",
       "      <td>NaN</td>\n",
       "      <td>NaN</td>\n",
       "      <td>NaN</td>\n",
       "    </tr>\n",
       "  </tbody>\n",
       "</table>\n",
       "<p>458 rows × 9 columns</p>\n",
       "</div>"
      ],
      "text/plain": [
       "              Name            Team  Number Position   Age Height  Weight  \\\n",
       "0    Avery Bradley  Boston Celtics     0.0       PG  25.0    6-2   180.0   \n",
       "1      Jae Crowder  Boston Celtics    99.0       SF  25.0    6-6   235.0   \n",
       "2     John Holland  Boston Celtics    30.0       SG  27.0    6-5   205.0   \n",
       "3      R.J. Hunter  Boston Celtics    28.0       SG  22.0    6-5   185.0   \n",
       "4    Jonas Jerebko  Boston Celtics     8.0       PF  29.0   6-10   231.0   \n",
       "..             ...             ...     ...      ...   ...    ...     ...   \n",
       "453   Shelvin Mack       Utah Jazz     8.0       PG  26.0    6-3   203.0   \n",
       "454      Raul Neto       Utah Jazz    25.0       PG  24.0    6-1   179.0   \n",
       "455   Tibor Pleiss       Utah Jazz    21.0        C  26.0    7-3   256.0   \n",
       "456    Jeff Withey       Utah Jazz    24.0        C  26.0    7-0   231.0   \n",
       "457            NaN             NaN     NaN      NaN   NaN    NaN     NaN   \n",
       "\n",
       "               College     Salary  \n",
       "0                Texas  7730337.0  \n",
       "1            Marquette  6796117.0  \n",
       "2    Boston University        NaN  \n",
       "3        Georgia State  1148640.0  \n",
       "4                  NaN  5000000.0  \n",
       "..                 ...        ...  \n",
       "453             Butler  2433333.0  \n",
       "454                NaN   900000.0  \n",
       "455                NaN  2900000.0  \n",
       "456             Kansas   947276.0  \n",
       "457                NaN        NaN  \n",
       "\n",
       "[458 rows x 9 columns]"
      ]
     },
     "metadata": {},
     "output_type": "display_data"
    }
   ],
   "source": [
    "import pandas as pd\n",
    "data =pd.read_csv(\"nba.csv\")\n",
    "display(data)"
   ]
  },
  {
   "cell_type": "code",
   "execution_count": 59,
   "metadata": {},
   "outputs": [],
   "source": [
    "data.dropna(inplace=True) #data içerisindeki nan değerleri silinir. data=data.dropna() dememize gerek kalmadı inplace=True ifadesini kullanarak.\n"
   ]
  },
  {
   "cell_type": "code",
   "execution_count": 60,
   "metadata": {},
   "outputs": [
    {
     "name": "stdout",
     "output_type": "stream",
     "text": [
      "Index(['Name', 'Team', 'Number', 'Position', 'Age', 'Height', 'Weight',\n",
      "       'College', 'Salary'],\n",
      "      dtype='object')\n"
     ]
    }
   ],
   "source": [
    "print(data.columns)"
   ]
  },
  {
   "cell_type": "code",
   "execution_count": 61,
   "metadata": {},
   "outputs": [
    {
     "name": "stdout",
     "output_type": "stream",
     "text": [
      "0       AVERY BRADLEY\n",
      "1         JAE CROWDER\n",
      "3         R.J. HUNTER\n",
      "6       JORDAN MICKEY\n",
      "7        KELLY OLYNYK\n",
      "8        TERRY ROZIER\n",
      "9        MARCUS SMART\n",
      "10    JARED SULLINGER\n",
      "11      ISAIAH THOMAS\n",
      "12        EVAN TURNER\n",
      "Name: Name, dtype: object\n"
     ]
    }
   ],
   "source": [
    "data[\"Name\"]=data[\"Name\"].str.upper() #tüm name lar büyük harfler yazılır\n",
    "print(data[\"Name\"].head(10))"
   ]
  },
  {
   "cell_type": "code",
   "execution_count": 62,
   "metadata": {},
   "outputs": [
    {
     "name": "stdout",
     "output_type": "stream",
     "text": [
      "0       avery bradley\n",
      "1         jae crowder\n",
      "3         r.j. hunter\n",
      "6       jordan mickey\n",
      "7        kelly olynyk\n",
      "8        terry rozier\n",
      "9        marcus smart\n",
      "10    jared sullinger\n",
      "11      isaiah thomas\n",
      "12        evan turner\n",
      "Name: Name, dtype: object\n"
     ]
    }
   ],
   "source": [
    "data[\"Name\"]=data[\"Name\"].str.lower() #tüm name lar küçük harfler yazılır\n",
    "print(data[\"Name\"].head(10))"
   ]
  },
  {
   "cell_type": "code",
   "execution_count": 63,
   "metadata": {},
   "outputs": [
    {
     "name": "stdout",
     "output_type": "stream",
     "text": [
      "0       avery bradley\n",
      "1         jae crowder\n",
      "3         r.j. hunter\n",
      "6       jordan mickey\n",
      "7        kelly olynyk\n",
      "8        terry rozier\n",
      "9        marcus smart\n",
      "10    jared sullinger\n",
      "11      isaiah thomas\n",
      "12        evan turner\n",
      "Name: Name, dtype: object\n"
     ]
    }
   ],
   "source": [
    "data[\"index\"]=data[\"Name\"].str.find('a') #a karakterinin name içinde arar ve olanlarını indexini verir\n",
    "\n",
    "print(data[\"Name\"].head(10))"
   ]
  },
  {
   "cell_type": "code",
   "execution_count": 64,
   "metadata": {},
   "outputs": [
    {
     "name": "stdout",
     "output_type": "stream",
     "text": [
      "6        jordan mickey\n",
      "98      deandre jordan\n",
      "110    jordan clarkson\n",
      "175       jordan mcrae\n",
      "201        jordan hill\n",
      "257       jordan adams\n",
      "289    jordan hamilton\n",
      "Name: Name, dtype: object\n"
     ]
    }
   ],
   "source": [
    "data= data[data[\"Name\"].str.contains(\"jordan\")]\n",
    "print(data[\"Name\"])"
   ]
  },
  {
   "cell_type": "code",
   "execution_count": 65,
   "metadata": {},
   "outputs": [
    {
     "name": "stdout",
     "output_type": "stream",
     "text": [
      "6            Boston-Celtics\n",
      "98     Los-Angeles-Clippers\n",
      "110      Los-Angeles-Lakers\n",
      "175     Cleveland-Cavaliers\n",
      "201          Indiana-Pacers\n",
      "257       Memphis-Grizzlies\n",
      "289    New-Orleans-Pelicans\n",
      "Name: Team, dtype: object\n"
     ]
    }
   ],
   "source": [
    "data = data[\"Team\"].str.replace(\" \",\"-\")\n",
    "print(data)"
   ]
  },
  {
   "cell_type": "markdown",
   "metadata": {},
   "source": [
    "### DataFrame ile Join ve Merge"
   ]
  },
  {
   "cell_type": "code",
   "execution_count": 66,
   "metadata": {},
   "outputs": [
    {
     "name": "stdout",
     "output_type": "stream",
     "text": [
      "   CustomerId FirstName LastName\n",
      "0           1     Ahmet   Yılmaz\n",
      "1           2       Ali  Korkmaz\n",
      "2           3     Hasan    Çelik\n",
      "3           4     Canan   Toprak\n",
      "   OrderId  CustomerId   OrderDate\n",
      "0       10           1  2010-07-04\n",
      "1       11           2  2010-08-04\n",
      "2       12           5  2010-07-07\n",
      "3       13           7  2012-07-04\n"
     ]
    }
   ],
   "source": [
    "import pandas as pd\n",
    "customers ={\"CustomerId\":[1,2,3,4],\n",
    "            \"FirstName\":[\"Ahmet\",\"Ali\",\"Hasan\",\"Canan\"],\n",
    "            \"LastName\":[\"Yılmaz\",\"Korkmaz\",\"Çelik\",\"Toprak\"]\n",
    "}\n",
    "\n",
    "orders ={\"OrderId\":[10,11,12,13],\n",
    "         \"CustomerId\":[1,2,5,7],\n",
    "         \"OrderDate\":[\"2010-07-04\",\"2010-08-04\",\"2010-07-07\",\"2012-07-04\"]\n",
    "}\n",
    "\n",
    "df_customers = pd.DataFrame(customers,columns=[\"CustomerId\",\"FirstName\",\"LastName\"])\n",
    "\n",
    "df_orders = pd.DataFrame(orders,columns=[\"OrderId\",\"CustomerId\",\"OrderDate\"])\n",
    "\n",
    "print(df_customers)\n",
    "print(df_orders)"
   ]
  },
  {
   "cell_type": "code",
   "execution_count": 67,
   "metadata": {},
   "outputs": [
    {
     "name": "stdout",
     "output_type": "stream",
     "text": [
      "   CustomerId FirstName LastName  OrderId   OrderDate\n",
      "0           1     Ahmet   Yılmaz       10  2010-07-04\n",
      "1           2       Ali  Korkmaz       11  2010-08-04\n"
     ]
    }
   ],
   "source": [
    "result= pd.merge(df_customers,df_orders,how=\"inner\")\n",
    "print(result)"
   ]
  },
  {
   "cell_type": "code",
   "execution_count": 68,
   "metadata": {},
   "outputs": [
    {
     "name": "stdout",
     "output_type": "stream",
     "text": [
      "   CustomerId FirstName LastName  OrderId   OrderDate\n",
      "0           1     Ahmet   Yılmaz     10.0  2010-07-04\n",
      "1           2       Ali  Korkmaz     11.0  2010-08-04\n",
      "2           3     Hasan    Çelik      NaN         NaN\n",
      "3           4     Canan   Toprak      NaN         NaN\n"
     ]
    }
   ],
   "source": [
    "result= pd.merge(df_customers,df_orders,how=\"left\") #tüm müşteriler gelsin ancak siparişi olmayan müşterilerde gelsin\n",
    "print(result)"
   ]
  },
  {
   "cell_type": "code",
   "execution_count": 69,
   "metadata": {},
   "outputs": [
    {
     "name": "stdout",
     "output_type": "stream",
     "text": [
      "   CustomerId FirstName LastName  OrderId   OrderDate\n",
      "0           1     Ahmet   Yılmaz       10  2010-07-04\n",
      "1           2       Ali  Korkmaz       11  2010-08-04\n",
      "2           5       NaN      NaN       12  2010-07-07\n",
      "3           7       NaN      NaN       13  2012-07-04\n"
     ]
    }
   ],
   "source": [
    "result= pd.merge(df_customers,df_orders,how=\"right\") #tüm siparişler gelsin ancak müşteri ismi olmayanlar da gelsin\n",
    "print(result)"
   ]
  },
  {
   "cell_type": "code",
   "execution_count": 70,
   "metadata": {},
   "outputs": [
    {
     "name": "stdout",
     "output_type": "stream",
     "text": [
      "   CustomerId FirstName LastName\n",
      "0           1     Ahmet   Yılmaz\n",
      "1           2       Ali  Korkmaz\n",
      "2           3     Hasan    Çelik\n",
      "3           4     Canan   Toprak\n",
      "0           4    Yağmur   Korkut\n",
      "1           5     Çınar   Özkaya\n",
      "2           6    Cengiz   Yılmaz\n",
      "3           7       Can    Turan\n"
     ]
    }
   ],
   "source": [
    "import pandas as pd\n",
    "customersA ={\"CustomerId\":[1,2,3,4],\n",
    "            \"FirstName\":[\"Ahmet\",\"Ali\",\"Hasan\",\"Canan\"],\n",
    "            \"LastName\":[\"Yılmaz\",\"Korkmaz\",\"Çelik\",\"Toprak\"]\n",
    "}\n",
    "\n",
    "customersB ={\"CustomerId\":[4,5,6,7],\n",
    "            \"FirstName\":[\"Yağmur\",\"Çınar\",\"Cengiz\",\"Can\"],\n",
    "            \"LastName\":[\"Korkut\",\"Özkaya\",\"Yılmaz\",\"Turan\"]\n",
    "}\n",
    "\n",
    "df_customersA = pd.DataFrame(customersA,columns=[\"CustomerId\",\"FirstName\",\"LastName\"])\n",
    "df_customersB = pd.DataFrame(customersB,columns=[\"CustomerId\",\"FirstName\",\"LastName\"])\n",
    "\n",
    "\n",
    "result = pd.concat([df_customersA,df_customersB])\n",
    "print(result)"
   ]
  },
  {
   "cell_type": "markdown",
   "metadata": {},
   "source": [
    "### Pandas ile DataFrame Metodları"
   ]
  },
  {
   "cell_type": "code",
   "execution_count": 71,
   "metadata": {},
   "outputs": [
    {
     "name": "stdout",
     "output_type": "stream",
     "text": [
      "   Column1  Column2 Column3\n",
      "0        1       10     abc\n",
      "1        2       20    bcia\n",
      "2        3       13     ade\n",
      "3        4       13     cba\n",
      "4        5       25     dea\n"
     ]
    }
   ],
   "source": [
    "import pandas as pd\n",
    "import numpy as np\n",
    "\n",
    "data = {\"Column1\":[1,2,3,4,5],\n",
    "        \"Column2\":[10,20,13,13,25],\n",
    "        \"Column3\":[\"abc\",\"bcia\",\"ade\",\"cba\",\"dea\"],\n",
    "}\n",
    "\n",
    "df = pd.DataFrame(data)\n",
    "print(df)"
   ]
  },
  {
   "cell_type": "code",
   "execution_count": 72,
   "metadata": {},
   "outputs": [
    {
     "name": "stdout",
     "output_type": "stream",
     "text": [
      "[10 20 13 25]\n"
     ]
    }
   ],
   "source": [
    "result = df[\"Column2\"].unique() #column2deki farklı içerikleri verir.\n",
    "print(result)"
   ]
  },
  {
   "cell_type": "code",
   "execution_count": 73,
   "metadata": {},
   "outputs": [
    {
     "name": "stdout",
     "output_type": "stream",
     "text": [
      "4\n"
     ]
    }
   ],
   "source": [
    "number = df[\"Column2\"].nunique() ##column2deki kaç farklı şey oldugunu verir.\n",
    "print(number)"
   ]
  },
  {
   "cell_type": "code",
   "execution_count": 74,
   "metadata": {},
   "outputs": [
    {
     "name": "stdout",
     "output_type": "stream",
     "text": [
      "Column2\n",
      "13    2\n",
      "10    1\n",
      "20    1\n",
      "25    1\n",
      "Name: count, dtype: int64\n"
     ]
    }
   ],
   "source": [
    "number = df[\"Column2\"].value_counts() #elemanların kaç kere tekrarlandığını verir.\n",
    "print(number)"
   ]
  },
  {
   "cell_type": "code",
   "execution_count": 75,
   "metadata": {},
   "outputs": [
    {
     "name": "stdout",
     "output_type": "stream",
     "text": [
      "0     1\n",
      "1     4\n",
      "2     9\n",
      "3    16\n",
      "4    25\n",
      "Name: Column1, dtype: int64\n"
     ]
    }
   ],
   "source": [
    "def kareAl(x):\n",
    "    return x*x\n",
    "\n",
    "result = df[\"Column1\"].apply(kareAl) #bir fonksiyon uygulamak için apply kullanılır.\n",
    "print(result)"
   ]
  },
  {
   "cell_type": "code",
   "execution_count": 76,
   "metadata": {},
   "outputs": [
    {
     "name": "stdout",
     "output_type": "stream",
     "text": [
      "0     1\n",
      "1     4\n",
      "2     9\n",
      "3    16\n",
      "4    25\n",
      "Name: Column1, dtype: int64\n"
     ]
    }
   ],
   "source": [
    "kareal2 = lambda x: x*x\n",
    "\n",
    "result = df[\"Column1\"].apply(kareal2)\n",
    "print(result)"
   ]
  },
  {
   "cell_type": "code",
   "execution_count": 77,
   "metadata": {},
   "outputs": [
    {
     "name": "stdout",
     "output_type": "stream",
     "text": [
      "0    3\n",
      "1    4\n",
      "2    3\n",
      "3    3\n",
      "4    3\n",
      "Name: Column3, dtype: int64\n"
     ]
    }
   ],
   "source": [
    "result = df[\"Column3\"].apply(len) #column3 de yer alan string verilerin her birinin uzunluğu(karakter sayısı)\n",
    "print(result)"
   ]
  },
  {
   "cell_type": "code",
   "execution_count": 78,
   "metadata": {},
   "outputs": [
    {
     "name": "stdout",
     "output_type": "stream",
     "text": [
      "Index(['Column1', 'Column2', 'Column3', 'Column4'], dtype='object')\n"
     ]
    }
   ],
   "source": [
    "df[\"Column4\"] =  df[\"Column3\"].apply(len)\n",
    "print(df.columns )"
   ]
  },
  {
   "cell_type": "code",
   "execution_count": 79,
   "metadata": {},
   "outputs": [
    {
     "name": "stdout",
     "output_type": "stream",
     "text": [
      "   Column1  Column2 Column3  Column4\n",
      "0        1       10     abc        3\n",
      "2        3       13     ade        3\n",
      "3        4       13     cba        3\n",
      "1        2       20    bcia        4\n",
      "4        5       25     dea        3\n"
     ]
    }
   ],
   "source": [
    "result=df.sort_values(\"Column2\") \n",
    "print(result)"
   ]
  },
  {
   "cell_type": "code",
   "execution_count": 80,
   "metadata": {},
   "outputs": [
    {
     "name": "stdout",
     "output_type": "stream",
     "text": [
      "   Column1  Column2 Column3  Column4\n",
      "0        1       10     abc        3\n",
      "2        3       13     ade        3\n",
      "1        2       20    bcia        4\n",
      "3        4       13     cba        3\n",
      "4        5       25     dea        3\n"
     ]
    }
   ],
   "source": [
    "result=df.sort_values(\"Column3\") #stringlerden oluştuğu için alfabetik sıraya göre sıralar\n",
    "print(result)"
   ]
  },
  {
   "cell_type": "code",
   "execution_count": 81,
   "metadata": {},
   "outputs": [
    {
     "name": "stdout",
     "output_type": "stream",
     "text": [
      "   Column1  Column2 Column3  Column4\n",
      "4        5       25     dea        3\n",
      "1        2       20    bcia        4\n",
      "2        3       13     ade        3\n",
      "3        4       13     cba        3\n",
      "0        1       10     abc        3\n"
     ]
    }
   ],
   "source": [
    "result=df.sort_values(\"Column2\",ascending=False) #çoktan aza sıralar.\n",
    "print(result)"
   ]
  },
  {
   "cell_type": "markdown",
   "metadata": {},
   "source": [
    "### Uygulama: NBA Verileri"
   ]
  },
  {
   "cell_type": "code",
   "execution_count": 82,
   "metadata": {},
   "outputs": [
    {
     "name": "stdout",
     "output_type": "stream",
     "text": [
      "4842684.105381166\n"
     ]
    }
   ],
   "source": [
    "import pandas as pd\n",
    "import numpy as np\n",
    "\n",
    "data = pd.read_csv(\"nba.csv\")\n",
    "df=pd.DataFrame(data)\n",
    "\n",
    "result= df.head(10) #ilk 10 kaydı görüntüle\n",
    "result =len(df) #toplam kaç kayıt var\n",
    "result = df[\"Salary\"].mean() #tüm oyuncuların maaş ortalaması\n",
    "print(result)\n"
   ]
  },
  {
   "cell_type": "code",
   "execution_count": 83,
   "metadata": {},
   "outputs": [
    {
     "name": "stdout",
     "output_type": "stream",
     "text": [
      "25000000.0\n",
      "109    Kobe Bryant\n",
      "Name: Name, dtype: object\n"
     ]
    }
   ],
   "source": [
    "result = df[\"Salary\"].max() #en yüksek maaş nedir\n",
    "WhoHasTheHighestSalary=df[df[\"Salary\"]==result][\"Name\"] #df içerisinden df kolonunda en yüksek maaşa sahip olan satırı getirdik ve bu saturun name kolonundaki değerini aldık.\n",
    "print(result)\n",
    "print(WhoHasTheHighestSalary)"
   ]
  },
  {
   "cell_type": "code",
   "execution_count": 84,
   "metadata": {},
   "outputs": [
    {
     "name": "stdout",
     "output_type": "stream",
     "text": [
      "     Age                     Name             Team\n",
      "0   25.0            Avery Bradley   Boston Celtics\n",
      "1   25.0              Jae Crowder   Boston Celtics\n",
      "3   22.0              R.J. Hunter   Boston Celtics\n",
      "6   21.0            Jordan Mickey   Boston Celtics\n",
      "7   25.0             Kelly Olynyk   Boston Celtics\n",
      "8   22.0             Terry Rozier   Boston Celtics\n",
      "9   22.0             Marcus Smart   Boston Celtics\n",
      "10  24.0          Jared Sullinger   Boston Celtics\n",
      "13  20.0              James Young   Boston Celtics\n",
      "16  24.0             Markel Brown    Brooklyn Nets\n",
      "18  21.0  Rondae Hollis-Jefferson    Brooklyn Nets\n",
      "20  22.0           Sergey Karasev    Brooklyn Nets\n",
      "22  23.0             Shane Larkin    Brooklyn Nets\n",
      "24  21.0         Chris McCullough    Brooklyn Nets\n",
      "26  25.0          Thomas Robinson    Brooklyn Nets\n",
      "32  23.0   Thanasis Antetokounmpo  New York Knicks\n",
      "35  25.0         Cleanthony Early  New York Knicks\n",
      "36  24.0        Langston Galloway  New York Knicks\n",
      "37  23.0             Jerian Grant  New York Knicks\n",
      "40  20.0       Kristaps Porzingis  New York Knicks\n"
     ]
    }
   ],
   "source": [
    "result = df.query(\"Age>=20 & Age<=25\")[[\"Age\",\"Name\",\"Team\"]].head(20) #yaşı 20-25 arasında olan oyuncuların isim ve oynadıkları takımları azalan şekilde sırala\n",
    "print(result)"
   ]
  },
  {
   "cell_type": "code",
   "execution_count": 85,
   "metadata": {},
   "outputs": [
    {
     "name": "stdout",
     "output_type": "stream",
     "text": [
      "2    Boston Celtics\n",
      "Name: Team, dtype: object\n"
     ]
    }
   ],
   "source": [
    "result=df[df[\"Name\"]==\"John Holland\"][\"Team\"] #\"John Holland\" isimli oyuncunun oynadığı takım hangisidir?\n",
    "print(result)"
   ]
  },
  {
   "cell_type": "code",
   "execution_count": 86,
   "metadata": {},
   "outputs": [
    {
     "name": "stdout",
     "output_type": "stream",
     "text": [
      "Team\n",
      "Atlanta Hawks             4.860197e+06\n",
      "Boston Celtics            4.181505e+06\n",
      "Brooklyn Nets             3.501898e+06\n",
      "Charlotte Hornets         5.222728e+06\n",
      "Chicago Bulls             5.785559e+06\n",
      "Cleveland Cavaliers       7.642049e+06\n",
      "Dallas Mavericks          4.746582e+06\n",
      "Denver Nuggets            4.294424e+06\n",
      "Detroit Pistons           4.477884e+06\n",
      "Golden State Warriors     5.924600e+06\n",
      "Houston Rockets           5.018868e+06\n",
      "Indiana Pacers            4.450122e+06\n",
      "Los Angeles Clippers      6.323643e+06\n",
      "Los Angeles Lakers        4.784695e+06\n",
      "Memphis Grizzlies         5.467920e+06\n",
      "Miami Heat                6.347359e+06\n",
      "Milwaukee Bucks           4.350220e+06\n",
      "Minnesota Timberwolves    4.593054e+06\n",
      "New Orleans Pelicans      4.355304e+06\n",
      "New York Knicks           4.581494e+06\n",
      "Oklahoma City Thunder     6.251020e+06\n",
      "Orlando Magic             4.297248e+06\n",
      "Philadelphia 76ers        2.213778e+06\n",
      "Phoenix Suns              4.229676e+06\n",
      "Portland Trail Blazers    3.220121e+06\n",
      "Sacramento Kings          4.778911e+06\n",
      "San Antonio Spurs         5.629516e+06\n",
      "Toronto Raptors           4.741174e+06\n",
      "Utah Jazz                 4.204006e+06\n",
      "Washington Wizards        5.088576e+06\n",
      "Name: Salary, dtype: float64\n"
     ]
    }
   ],
   "source": [
    "result = df.groupby(\"Team\")[\"Salary\"].mean() #takımlara göre oyuncuların ortalama maaş bilgisi\n",
    "print(result)"
   ]
  },
  {
   "cell_type": "code",
   "execution_count": 87,
   "metadata": {},
   "outputs": [
    {
     "name": "stdout",
     "output_type": "stream",
     "text": [
      "30\n",
      "Team\n",
      "New Orleans Pelicans      19\n",
      "Memphis Grizzlies         18\n",
      "New York Knicks           16\n",
      "Milwaukee Bucks           16\n",
      "Atlanta Hawks             15\n",
      "Utah Jazz                 15\n",
      "Toronto Raptors           15\n",
      "San Antonio Spurs         15\n",
      "Sacramento Kings          15\n",
      "Portland Trail Blazers    15\n",
      "Phoenix Suns              15\n",
      "Philadelphia 76ers        15\n",
      "Oklahoma City Thunder     15\n",
      "Boston Celtics            15\n",
      "Miami Heat                15\n",
      "Los Angeles Lakers        15\n",
      "Los Angeles Clippers      15\n",
      "Indiana Pacers            15\n",
      "Houston Rockets           15\n",
      "Golden State Warriors     15\n",
      "Detroit Pistons           15\n",
      "Denver Nuggets            15\n",
      "Dallas Mavericks          15\n",
      "Cleveland Cavaliers       15\n",
      "Chicago Bulls             15\n",
      "Charlotte Hornets         15\n",
      "Brooklyn Nets             15\n",
      "Washington Wizards        15\n",
      "Minnesota Timberwolves    14\n",
      "Orlando Magic             14\n",
      "dtype: int64\n"
     ]
    }
   ],
   "source": [
    "print(df[\"Team\"].nunique()) #kaç farklı takım mevcut\n",
    "print(df.groupby(\"Team\").size().sort_values(ascending=False)) #her takımda kaç oyuncu oynamaktadır // df[\"Team\"].value_counts() ile de olabilir.\n"
   ]
  },
  {
   "cell_type": "code",
   "execution_count": 88,
   "metadata": {},
   "outputs": [
    {
     "name": "stdout",
     "output_type": "stream",
     "text": [
      "                 Name                    Team  Number Position   Age Height  \\\n",
      "52        Carl Landry      Philadelphia 76ers     7.0       PF  32.0    6-9   \n",
      "87       Brandon Rush   Golden State Warriors     4.0       SF  30.0    6-6   \n",
      "94     Branden Dawson    Los Angeles Clippers    22.0       SF  23.0    6-6   \n",
      "106      Brandon Bass      Los Angeles Lakers     2.0       PF  31.0    6-8   \n",
      "115     Julius Randle      Los Angeles Lakers    30.0       PF  21.0    6-9   \n",
      "127    Brandon Knight            Phoenix Suns     3.0       PG  24.0    6-3   \n",
      "149     Eric Moreland        Sacramento Kings    25.0       PF  24.0   6-10   \n",
      "238  Chandler Parsons        Dallas Mavericks    25.0       SF  27.0   6-10   \n",
      "271     Zach Randolph       Memphis Grizzlies    50.0       PF  34.0    6-9   \n",
      "274    Brandan Wright       Memphis Grizzlies    34.0       PF  28.0   6-10   \n",
      "291   Orlando Johnson    New Orleans Pelicans     0.0       SG  27.0    6-5   \n",
      "386   Wilson Chandler          Denver Nuggets    21.0       SF  29.0    6-8   \n",
      "415        Randy Foye   Oklahoma City Thunder     6.0       SG  32.0    6-4   \n",
      "427   Cliff Alexander  Portland Trail Blazers    34.0       PF  20.0    6-8   \n",
      "\n",
      "     Weight           College      Salary  \n",
      "52    248.0            Purdue   6500000.0  \n",
      "87    220.0            Kansas   1270964.0  \n",
      "94    225.0    Michigan State    525093.0  \n",
      "106   250.0               LSU   3000000.0  \n",
      "115   250.0          Kentucky   3132240.0  \n",
      "127   189.0          Kentucky  13500000.0  \n",
      "149   238.0      Oregon State    845059.0  \n",
      "238   230.0           Florida  15361500.0  \n",
      "271   260.0    Michigan State   9638555.0  \n",
      "274   210.0    North Carolina   5464000.0  \n",
      "291   220.0  UC Santa Barbara     55722.0  \n",
      "386   225.0            DePaul  10449438.0  \n",
      "415   213.0         Villanova   3135000.0  \n",
      "427   240.0            Kansas    525093.0  \n"
     ]
    }
   ],
   "source": [
    "#ismi içinde \"and\"geçen kayıtları bulunuz.\n",
    "df.dropna(inplace=True) #içinde nan olanları kaldırmazsak alt satır hata verir\n",
    "result = df[df[\"Name\"].str.contains(\"and\")]\n",
    "print(result)"
   ]
  },
  {
   "cell_type": "markdown",
   "metadata": {},
   "source": [
    "### Uygulama: YouTube İstatistik Verilerinin Analizi"
   ]
  },
  {
   "cell_type": "code",
   "execution_count": 89,
   "metadata": {},
   "outputs": [],
   "source": [
    "import pandas as pd\n",
    "data = pd.read_csv(\"youtube-ing.csv\")\n",
    "df=pd.DataFrame(data)\n"
   ]
  },
  {
   "cell_type": "code",
   "execution_count": 90,
   "metadata": {},
   "outputs": [
    {
     "name": "stdout",
     "output_type": "stream",
     "text": [
      "Index(['video_id', 'trending_date', 'title', 'channel_title', 'category_id',\n",
      "       'publish_time', 'tags', 'views', 'likes', 'dislikes', 'comment_count',\n",
      "       'thumbnail_link', 'comments_disabled', 'ratings_disabled',\n",
      "       'video_error_or_removed', 'description'],\n",
      "      dtype='object')\n"
     ]
    }
   ],
   "source": [
    "result=df.head(10) #ilk 10 kaydı getirin\n",
    "result = df[5:10].head(5) #ikinci 5 kaydı getirin\n",
    "resultt = df.columns #dataset bulunan kolonları bulun\n",
    "result = df.columns.size #bulunan kolonların sayısını bulun\n",
    "print(resultt)"
   ]
  },
  {
   "cell_type": "code",
   "execution_count": 91,
   "metadata": {},
   "outputs": [
    {
     "name": "stdout",
     "output_type": "stream",
     "text": [
      "Index(['video_id', 'trending_date', 'title', 'channel_title', 'category_id',\n",
      "       'publish_time', 'tags', 'views', 'likes', 'dislikes', 'comment_count'],\n",
      "      dtype='object')\n"
     ]
    }
   ],
   "source": [
    "#bazı kolonları(thumbnail_link,comments_disabled,ratings_disabled,video_error_or_removed, description) silin ve kalan klolonları listeleyin\n",
    "df.drop(['thumbnail_link','comments_disabled','ratings_disabled','video_error_or_removed', 'description'],axis=1,inplace=True)\n",
    "print(df.columns)"
   ]
  },
  {
   "cell_type": "code",
   "execution_count": 92,
   "metadata": {},
   "outputs": [
    {
     "name": "stdout",
     "output_type": "stream",
     "text": [
      "134519.55349984582,7612.559975331483\n"
     ]
    }
   ],
   "source": [
    "meanLike = df[\"likes\"].mean() #like ve dislike ortalamalarını bulun\n",
    "meanDislike = df[\"dislikes\"].mean()\n",
    "print(f\"{meanLike},{meanDislike}\")"
   ]
  },
  {
   "cell_type": "code",
   "execution_count": 93,
   "metadata": {},
   "outputs": [
    {
     "name": "stdout",
     "output_type": "stream",
     "text": [
      "      likes  dislikes\n",
      "0     55681     10247\n",
      "1     25561      2294\n",
      "2    787420     43420\n",
      "3       193        12\n",
      "4        30         2\n",
      "5     52708      1431\n",
      "6   1634124     21082\n",
      "7     57309       749\n",
      "8      2163       147\n",
      "9    190084     15015\n",
      "10     9591       266\n",
      "11     1746       125\n",
      "12    37986       816\n",
      "13     8133      2693\n",
      "14    98804     11682\n",
      "15    12553      2146\n",
      "16    22326       833\n",
      "17   286269      4083\n",
      "18   202676      3394\n",
      "19    72593      1830\n",
      "20    10028       248\n",
      "21   263918      1502\n",
      "22   207262      3167\n",
      "23    25115       499\n",
      "24     4577       292\n",
      "25    52829      1524\n",
      "26      629        77\n",
      "27     5029        81\n",
      "28   307435      2573\n",
      "29      399        14\n",
      "30     5364       153\n",
      "31     7999        84\n",
      "32    84426      1130\n",
      "33     1881       182\n",
      "34      240        16\n",
      "35   126078     10294\n",
      "36       33         6\n",
      "37     1267        38\n",
      "38     4604        46\n",
      "39    53572       168\n",
      "40     4935       177\n",
      "41    19323       245\n",
      "42     9210        71\n",
      "43    32648      6221\n",
      "44     3946       295\n",
      "45    11107       212\n",
      "46    22303       700\n",
      "47     3872        16\n",
      "48    65854      2442\n",
      "49    14303       398\n"
     ]
    }
   ],
   "source": [
    "result = df[[\"likes\",\"dislikes\"]].head(50) #ilk 50 videonun like ve dislike sayılarını getirin\n",
    "print(result)"
   ]
  },
  {
   "cell_type": "code",
   "execution_count": 94,
   "metadata": {},
   "outputs": [
    {
     "name": "stdout",
     "output_type": "stream",
     "text": [
      "                                                   title      views\n",
      "28412  Nicky Jam x J. Balvin - X (EQUIS) | Video Ofic...  424538912\n"
     ]
    }
   ],
   "source": [
    "result = df[df[\"views\"]==df[\"views\"].max()][[\"title\",\"views\"]] #en çok görüntülenen video hangisi\n",
    "print(result)"
   ]
  },
  {
   "cell_type": "code",
   "execution_count": 95,
   "metadata": {},
   "outputs": [
    {
     "name": "stdout",
     "output_type": "stream",
     "text": [
      "                                                  title  views\n",
      "3477  Mountain Bikers Worried About Military Land Be...    851\n"
     ]
    }
   ],
   "source": [
    "result = df[df[\"views\"]==df[\"views\"].min()][[\"title\",\"views\"]] #en az görüntülenen video hangisi\n",
    "print(result)"
   ]
  },
  {
   "cell_type": "code",
   "execution_count": 96,
   "metadata": {},
   "outputs": [
    {
     "name": "stdout",
     "output_type": "stream",
     "text": [
      "                                                   title      views\n",
      "28412  Nicky Jam x J. Balvin - X (EQUIS) | Video Ofic...  424538912\n",
      "28212  Nicky Jam x J. Balvin - X (EQUIS) | Video Ofic...  413586699\n",
      "28008  Nicky Jam x J. Balvin - X (EQUIS) | Video Ofic...  402650804\n",
      "27811  Nicky Jam x J. Balvin - X (EQUIS) | Video Ofic...  392036878\n",
      "27615  Nicky Jam x J. Balvin - X (EQUIS) | Video Ofic...  382401497\n",
      "27424  Nicky Jam x J. Balvin - X (EQUIS) | Video Ofic...  372399338\n",
      "27241  Nicky Jam x J. Balvin - X (EQUIS) | Video Ofic...  362111555\n",
      "27052  Nicky Jam x J. Balvin - X (EQUIS) | Video Ofic...  349987176\n",
      "26861  Nicky Jam x J. Balvin - X (EQUIS) | Video Ofic...  339629489\n",
      "34460  Te Bote Remix - Casper, Nio García, Darell, Ni...  337621571\n"
     ]
    }
   ],
   "source": [
    "result = df.sort_values(\"views\",ascending=False).head(10)[[\"title\",\"views\"]] #en çok izlenen ilk 10 video\n",
    "print(result)"
   ]
  },
  {
   "cell_type": "code",
   "execution_count": 97,
   "metadata": {},
   "outputs": [
    {
     "name": "stdout",
     "output_type": "stream",
     "text": [
      "category_id\n",
      "10    272138.508943\n",
      "29    271695.733333\n",
      "24     81572.362012\n",
      "23     78431.168490\n",
      "28     61531.127413\n",
      "1      57205.523089\n",
      "22     46273.495899\n",
      "43     41836.900000\n",
      "17     39270.313057\n",
      "20     39220.127517\n",
      "27     38440.687090\n",
      "15     28629.913858\n",
      "26     26639.183091\n",
      "25     25021.685714\n",
      "2      24608.506944\n",
      "19      9674.447917\n",
      "Name: likes, dtype: float64\n"
     ]
    }
   ],
   "source": [
    "#kategoriye göre beğeni ortalamalarını sıralı şekilde giriniz\n",
    "df.dropna(inplace=True)\n",
    "\n",
    "LikeMeanByCategory = df.groupby(\"category_id\")[\"likes\"].mean()\n",
    "\n",
    "result = LikeMeanByCategory.sort_values(ascending=False).head(20)\n",
    "\n",
    "print(result)\n"
   ]
  },
  {
   "cell_type": "code",
   "execution_count": 98,
   "metadata": {},
   "outputs": [
    {
     "name": "stdout",
     "output_type": "stream",
     "text": [
      "category_id\n",
      "10    293013140\n",
      "24    116897440\n",
      "22     18713149\n",
      "23     16718816\n",
      "1      15590011\n",
      "17     10056226\n",
      "25      9386604\n",
      "29      7672790\n",
      "26      7356296\n",
      "20      6166994\n",
      "28      4029065\n",
      "27      1636903\n",
      "15      1404698\n",
      "2        505085\n",
      "19       118177\n",
      "43        80957\n",
      "Name: comment_count, dtype: int64\n"
     ]
    }
   ],
   "source": [
    "#kategoriye göre  yorum sayılarını yukarıdan aşağıya sıralayınız\n",
    "\n",
    "x= df.groupby(\"category_id\")[\"comment_count\"].sum()\n",
    "result =x.sort_values(ascending=False).head(20)\n",
    "print(result)"
   ]
  },
  {
   "cell_type": "code",
   "execution_count": 99,
   "metadata": {},
   "outputs": [
    {
     "name": "stdout",
     "output_type": "stream",
     "text": [
      "category_id\n",
      "10    13754\n",
      "24     9124\n",
      "22     2926\n",
      "1      2577\n",
      "26     1928\n",
      "17     1907\n",
      "23     1828\n",
      "20     1788\n",
      "25     1225\n",
      "15      534\n",
      "28      518\n",
      "27      457\n",
      "2       144\n",
      "19       96\n",
      "29       90\n",
      "43       20\n",
      "Name: count, dtype: int64\n"
     ]
    }
   ],
   "source": [
    "#her kategoride kaç video var\n",
    "print(df[\"category_id\"].value_counts())"
   ]
  },
  {
   "cell_type": "code",
   "execution_count": 100,
   "metadata": {},
   "outputs": [
    {
     "name": "stdout",
     "output_type": "stream",
     "text": [
      "                                                   title  title_lenght\n",
      "0          John Lewis Christmas Ad 2017 - #MozTheMonster            45\n",
      "1              Taylor Swift: …Ready for It? (Live) - SNL            41\n",
      "2             Eminem - Walk On Water (Audio) ft. Beyoncé            42\n",
      "3      Goals from Salford City vs Class of 92 and Fri...            76\n",
      "4      Dashcam captures truck's near miss with child ...            55\n",
      "...                                                  ...           ...\n",
      "38911  Enrique Iglesias - MOVE TO MIAMI (Official Vid...            61\n",
      "38912  Jacob Sartorius - Up With It (Official Music V...            51\n",
      "38913                 Anne-Marie - 2002 [Official Video]            34\n",
      "38914  Eleni Foureira - Fuego - Cyprus - LIVE - First...            75\n",
      "38915  KYLE - Ikuyo feat.  2 Chainz & Sophia Black [A...            51\n",
      "\n",
      "[38916 rows x 2 columns]\n"
     ]
    }
   ],
   "source": [
    "# her videonun title uzunluğu bilgisini yeni bir kolonda gösterin\n",
    "\n",
    "df[\"title_lenght\"]= df[\"title\"].str.len()\n",
    "print(df[[\"title\",\"title_lenght\"]])"
   ]
  },
  {
   "cell_type": "code",
   "execution_count": 102,
   "metadata": {},
   "outputs": [
    {
     "name": "stdout",
     "output_type": "stream",
     "text": [
      "                                                    tags  tag_count\n",
      "0      christmas|\"john lewis christmas\"|\"john lewis\"|...          9\n",
      "1      SNL|\"Saturday Night Live\"|\"SNL Season 43\"|\"Epi...         36\n",
      "2      Eminem|\"Walk\"|\"On\"|\"Water\"|\"Aftermath/Shady/In...          6\n",
      "3      Salford City FC|\"Salford City\"|\"Salford\"|\"Clas...          9\n",
      "4                                                 [none]          1\n",
      "...                                                  ...        ...\n",
      "38911  Enrique Iglesias feat. Pitbull|\"MOVE TO MIAMI\"...          4\n",
      "38912  jacob sartorius|\"jacob\"|\"up with it\"|\"jacob sa...         41\n",
      "38913  anne|\"marie\"|\"anne-marie\"|\"2002\"|\"two thousand...         17\n",
      "38914  Eurovision Song Contest|\"2018\"|\"Lisbon\"|\"Cypru...          8\n",
      "38915  Kyle|\"SuperDuperKyle\"|\"Ikuyo\"|\"2 Chainz\"|\"Soph...         18\n",
      "\n",
      "[38916 rows x 2 columns]\n"
     ]
    }
   ],
   "source": [
    "#her video için kullanılan tag sayısını yeni kolonda gösterin\n",
    "\n",
    "df[\"tag_count\"] = df[\"tags\"].apply(lambda x: len(x.split(\"|\")))\n",
    "print(df[[\"tags\",\"tag_count\"]])\n",
    "\n"
   ]
  },
  {
   "cell_type": "code",
   "execution_count": 103,
   "metadata": {},
   "outputs": [
    {
     "name": "stdout",
     "output_type": "stream",
     "text": [
      "                                                   title  likes  dislikes  \\\n",
      "36631         Kris Wu – Like That (Official Music Video)  57544         0   \n",
      "7088      HIGHLIGHTS: MK Dons U18s 1-0 Cardiff City U18s     30         0   \n",
      "5361         QUIZ : Name the Trail : A Christmas Cracker      2         0   \n",
      "12082    Lima Sopoaga Tribute🔥🔥||The Unsung Hero||💯 2017     50         0   \n",
      "5338   Bohemian Rhapsody (2018) - Scene Bohemian Rhap...     71         0   \n",
      "...                                                  ...    ...       ...   \n",
      "21547                                    To Our Daughter      0         0   \n",
      "22661                      【公式】「劇場版ポケットモンスター みんなの物語」予告編1      0         0   \n",
      "24920                    映画『BLEACH』特報【HD】2018年7月20日（金）公開      0         0   \n",
      "14864                             Altwork 1 Minute Video      0         0   \n",
      "4465                      The New Snapchat in 60 Seconds      0         0   \n",
      "\n",
      "       beğeni_orani  \n",
      "36631           1.0  \n",
      "7088            1.0  \n",
      "5361            1.0  \n",
      "12082           1.0  \n",
      "5338            1.0  \n",
      "...             ...  \n",
      "21547           0.0  \n",
      "22661           0.0  \n",
      "24920           0.0  \n",
      "14864           0.0  \n",
      "4465            0.0  \n",
      "\n",
      "[38916 rows x 4 columns]\n"
     ]
    }
   ],
   "source": [
    "#en populer videoları listeleyin(like/dislike) oranına göre\n",
    "\n",
    "def likedislikeoranhesapla(dataset):\n",
    "    likesList = list(dataset[\"likes\"])\n",
    "    dislikesList = list(dataset[\"dislikes\"])\n",
    "\n",
    "    liste = list(zip(likesList,dislikesList))\n",
    "\n",
    "    oranListesi = []\n",
    "\n",
    "    for like,dislike  in liste: \n",
    "        if (like + dislike) == 0:\n",
    "            oranListesi.append(0)\n",
    "        else:\n",
    "            oranListesi.append(like/(like+dislike))\n",
    "\n",
    "    return oranListesi\n",
    "\n",
    "df[\"beğeni_orani\"] = likedislikeoranhesapla(df)\n",
    "\n",
    "print(df.sort_values(\"beğeni_orani\",ascending=False)[[\"title\",\"likes\",\"dislikes\",\"beğeni_orani\"]])\n",
    "\n"
   ]
  },
  {
   "cell_type": "code",
   "execution_count": null,
   "metadata": {},
   "outputs": [],
   "source": []
  }
 ],
 "metadata": {
  "kernelspec": {
   "display_name": "Python 3",
   "language": "python",
   "name": "python3"
  },
  "language_info": {
   "codemirror_mode": {
    "name": "ipython",
    "version": 3
   },
   "file_extension": ".py",
   "mimetype": "text/x-python",
   "name": "python",
   "nbconvert_exporter": "python",
   "pygments_lexer": "ipython3",
   "version": "3.12.1"
  }
 },
 "nbformat": 4,
 "nbformat_minor": 2
}
